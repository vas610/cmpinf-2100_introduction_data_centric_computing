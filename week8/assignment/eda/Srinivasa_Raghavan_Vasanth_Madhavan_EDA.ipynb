{
 "cells": [
  {
   "cell_type": "markdown",
   "id": "6b258ed1-afc8-4b6f-975d-5de0e8d3f515",
   "metadata": {},
   "source": [
    "## Import Modules"
   ]
  },
  {
   "cell_type": "code",
   "execution_count": 1,
   "id": "fc819d75-859b-425c-9e72-61563f3a8396",
   "metadata": {
    "tags": []
   },
   "outputs": [],
   "source": [
    "import numpy as np\n",
    "import pandas as pd\n",
    "import matplotlib.pyplot as plt\n",
    "\n",
    "import seaborn as sns"
   ]
  },
  {
   "cell_type": "code",
   "execution_count": 2,
   "id": "113058b5-276f-4296-aae3-fc5a952fa0e8",
   "metadata": {
    "tags": []
   },
   "outputs": [],
   "source": [
    "sns.set_palette(palette='gist_ncar')"
   ]
  },
  {
   "cell_type": "markdown",
   "id": "44a072e1-7887-432f-a35d-04b06046a596",
   "metadata": {
    "tags": []
   },
   "source": [
    "## Loading the Dataset\n",
    "\n",
    "The following steps loads the dataset from the given URL into a pandas dataframe named `df`"
   ]
  },
  {
   "cell_type": "code",
   "execution_count": 3,
   "id": "f18e398a-90f8-4dfe-8441-74a7ed61d814",
   "metadata": {
    "tags": []
   },
   "outputs": [],
   "source": [
    "songs_url = 'https://raw.githubusercontent.com/rfordatascience/tidytuesday/master/data/2020/2020-01-21/spotify_songs.csv'\n",
    "\n",
    "df = pd.read_csv(songs_url)"
   ]
  },
  {
   "cell_type": "markdown",
   "id": "1508ede2-ba77-4b80-9e32-5cc8b141227c",
   "metadata": {
    "tags": []
   },
   "source": [
    "## Performing essential EDA using pandas methods\n",
    "\n",
    "1. Shape\n",
    "2. Info\n",
    "3. Missing Values\n",
    "4. Unique Values"
   ]
  },
  {
   "cell_type": "markdown",
   "id": "423771da-acb8-426d-88dd-48661a92dcc2",
   "metadata": {},
   "source": [
    "First, we I find the dimensionality of the pandas dataframe using the `df.shape` method. This tells how many rows, columns are there in the dataframe. In this case it is 32833 rows and 23 columns"
   ]
  },
  {
   "cell_type": "code",
   "execution_count": 4,
   "id": "c5b68279-d359-4dff-942f-3520f4a299cb",
   "metadata": {
    "tags": []
   },
   "outputs": [
    {
     "data": {
      "text/plain": [
       "(32833, 23)"
      ]
     },
     "execution_count": 4,
     "metadata": {},
     "output_type": "execute_result"
    }
   ],
   "source": [
    "df.shape"
   ]
  },
  {
   "cell_type": "markdown",
   "id": "d190a4ee-0bb6-400d-bb63-5385c6235d72",
   "metadata": {},
   "source": [
    "Then, I'm exploring the datatypes, count of not-null values in every column of the dataset using the `df.info()` method"
   ]
  },
  {
   "cell_type": "code",
   "execution_count": 5,
   "id": "6eb3dd66-ae3d-43e9-8187-2f069af9888e",
   "metadata": {
    "tags": []
   },
   "outputs": [
    {
     "name": "stdout",
     "output_type": "stream",
     "text": [
      "<class 'pandas.core.frame.DataFrame'>\n",
      "RangeIndex: 32833 entries, 0 to 32832\n",
      "Data columns (total 23 columns):\n",
      " #   Column                    Non-Null Count  Dtype  \n",
      "---  ------                    --------------  -----  \n",
      " 0   track_id                  32833 non-null  object \n",
      " 1   track_name                32828 non-null  object \n",
      " 2   track_artist              32828 non-null  object \n",
      " 3   track_popularity          32833 non-null  int64  \n",
      " 4   track_album_id            32833 non-null  object \n",
      " 5   track_album_name          32828 non-null  object \n",
      " 6   track_album_release_date  32833 non-null  object \n",
      " 7   playlist_name             32833 non-null  object \n",
      " 8   playlist_id               32833 non-null  object \n",
      " 9   playlist_genre            32833 non-null  object \n",
      " 10  playlist_subgenre         32833 non-null  object \n",
      " 11  danceability              32833 non-null  float64\n",
      " 12  energy                    32833 non-null  float64\n",
      " 13  key                       32833 non-null  int64  \n",
      " 14  loudness                  32833 non-null  float64\n",
      " 15  mode                      32833 non-null  int64  \n",
      " 16  speechiness               32833 non-null  float64\n",
      " 17  acousticness              32833 non-null  float64\n",
      " 18  instrumentalness          32833 non-null  float64\n",
      " 19  liveness                  32833 non-null  float64\n",
      " 20  valence                   32833 non-null  float64\n",
      " 21  tempo                     32833 non-null  float64\n",
      " 22  duration_ms               32833 non-null  int64  \n",
      "dtypes: float64(9), int64(4), object(10)\n",
      "memory usage: 5.8+ MB\n"
     ]
    }
   ],
   "source": [
    "df.info()"
   ]
  },
  {
   "cell_type": "markdown",
   "id": "f6a2cb80-d623-4597-9858-45a8520bfff4",
   "metadata": {
    "tags": []
   },
   "source": [
    "Also, below is the description of each of the column in the dataset"
   ]
  },
  {
   "cell_type": "markdown",
   "id": "b36e438d-d3ad-4dc9-ab3c-dcb116f276f3",
   "metadata": {},
   "source": [
    "|variable                 |class     |description |\n",
    "|:---|:---|:-----------|\n",
    "|track_id                 |character | Song unique ID|\n",
    "|track_name               |character | Song Name|\n",
    "|track_artist             |character | Song Artist|\n",
    "|track_popularity         |double    | Song Popularity (0-100) where higher is better |\n",
    "|track_album_id           |character | Album unique ID|\n",
    "|track_album_name         |character | Song album name |\n",
    "|track_album_release_date |character | Date when album released |\n",
    "|playlist_name            |character | Name of playlist |\n",
    "|playlist_id              |character | Playlist ID|\n",
    "|playlist_genre           |character | Playlist genre |\n",
    "|playlist_subgenre        |character | Playlist subgenre|\n",
    "|danceability             |double    | Danceability describes how suitable a track is for dancing based on a combination of musical elements including tempo, rhythm stability, beat strength, and overall regularity. A value of 0.0 is least danceable and 1.0 is most danceable. |\n",
    "|energy                   |double    | Energy is a measure from 0.0 to 1.0 and represents a perceptual measure of intensity and activity. Typically, energetic tracks feel fast, loud, and noisy. For example, death metal has high energy, while a Bach prelude scores low on the scale. Perceptual features contributing to this attribute include dynamic range, perceived loudness, timbre, onset rate, and general entropy. |\n",
    "|key                      |double    | The estimated overall key of the track. Integers map to pitches using standard Pitch Class notation . E.g. 0 = C, 1 = C♯/D♭, 2 = D, and so on. If no key was detected, the value is -1. |\n",
    "|loudness                 |double    | The overall loudness of a track in decibels (dB). Loudness values are averaged across the entire track and are useful for comparing relative loudness of tracks. Loudness is the quality of a sound that is the primary psychological correlate of physical strength (amplitude). Values typical range between -60 and 0 db.|\n",
    "|mode                     |double    | Mode indicates the modality (major or minor) of a track, the type of scale from which its melodic content is derived. Major is represented by 1 and minor is 0.|\n",
    "|speechiness              |double    | Speechiness detects the presence of spoken words in a track. The more exclusively speech-like the recording (e.g. talk show, audio book, poetry), the closer to 1.0 the attribute value. Values above 0.66 describe tracks that are probably made entirely of spoken words. Values between 0.33 and 0.66 describe tracks that may contain both music and speech, either in sections or layered, including such cases as rap music. Values below 0.33 most likely represent music and other non-speech-like tracks. |\n",
    "|acousticness             |double    | A confidence measure from 0.0 to 1.0 of whether the track is acoustic. 1.0 represents high confidence the track is acoustic.|\n",
    "|instrumentalness         |double    | Predicts whether a track contains no vocals. \"Ooh\" and \"aah\" sounds are treated as instrumental in this context. Rap or spoken word tracks are clearly \"vocal\". The closer the instrumentalness value is to 1.0, the greater likelihood the track contains no vocal content. Values above 0.5 are intended to represent instrumental tracks, but confidence is higher as the value approaches 1.0. |\n",
    "|liveness                 |double    | Detects the presence of an audience in the recording. Higher liveness values represent an increased probability that the track was performed live. A value above 0.8 provides strong likelihood that the track is live. |\n",
    "|valence                  |double    | A measure from 0.0 to 1.0 describing the musical positiveness conveyed by a track. Tracks with high valence sound more positive (e.g. happy, cheerful, euphoric), while tracks with low valence sound more negative (e.g. sad, depressed, angry). |\n",
    "|tempo                    |double    | The overall estimated tempo of a track in beats per minute (BPM). In musical terminology, tempo is the speed or pace of a given piece and derives directly from the average beat duration. |\n",
    "|duration_ms              |double    | Duration of song in milliseconds |"
   ]
  },
  {
   "cell_type": "markdown",
   "id": "6ce31bdc-0db2-4e84-841a-2e103054851f",
   "metadata": {},
   "source": [
    "Next, I look to see **number of missing values** for each column. This is important to know so that I can elimate columns with too many missing values as those columns won't provide much insights about the dataset"
   ]
  },
  {
   "cell_type": "code",
   "execution_count": 6,
   "id": "640f5fb1-00f1-4c53-ae44-dcf4fb765be8",
   "metadata": {
    "tags": []
   },
   "outputs": [
    {
     "data": {
      "text/plain": [
       "track_id                    0\n",
       "track_name                  5\n",
       "track_artist                5\n",
       "track_popularity            0\n",
       "track_album_id              0\n",
       "track_album_name            5\n",
       "track_album_release_date    0\n",
       "playlist_name               0\n",
       "playlist_id                 0\n",
       "playlist_genre              0\n",
       "playlist_subgenre           0\n",
       "danceability                0\n",
       "energy                      0\n",
       "key                         0\n",
       "loudness                    0\n",
       "mode                        0\n",
       "speechiness                 0\n",
       "acousticness                0\n",
       "instrumentalness            0\n",
       "liveness                    0\n",
       "valence                     0\n",
       "tempo                       0\n",
       "duration_ms                 0\n",
       "dtype: int64"
      ]
     },
     "execution_count": 6,
     "metadata": {},
     "output_type": "execute_result"
    }
   ],
   "source": [
    "df.isna().sum()"
   ]
  },
  {
   "cell_type": "markdown",
   "id": "bd32cb4d-7c60-444b-9fa6-c097b6e21214",
   "metadata": {},
   "source": [
    "The above analysis shows that only three columns `track_name`, `track_artist`, `track_album_name` have missing values and that too _very minimal number of rows_ with missing value.  So far, I have not dropped any columns based on missing values."
   ]
  },
  {
   "cell_type": "markdown",
   "id": "c6b0f697-f5aa-4da4-80a4-08190114d267",
   "metadata": {
    "tags": []
   },
   "source": [
    "It is now time to look at **number of unique values** for each columns. Columns with too many unique values may not be informative or may lead to overfitting, while columns with too few unique values may not provide enough discriminative power."
   ]
  },
  {
   "cell_type": "code",
   "execution_count": 7,
   "id": "d8b5d19b-3f18-4bb0-83b1-8d761c14d307",
   "metadata": {
    "tags": []
   },
   "outputs": [
    {
     "data": {
      "text/plain": [
       "track_id                    28356\n",
       "track_name                  23450\n",
       "track_artist                10693\n",
       "track_popularity              101\n",
       "track_album_id              22545\n",
       "track_album_name            19744\n",
       "track_album_release_date     4530\n",
       "playlist_name                 449\n",
       "playlist_id                   471\n",
       "playlist_genre                  6\n",
       "playlist_subgenre              24\n",
       "danceability                  822\n",
       "energy                        952\n",
       "key                            12\n",
       "loudness                    10222\n",
       "mode                            2\n",
       "speechiness                  1270\n",
       "acousticness                 3731\n",
       "instrumentalness             4729\n",
       "liveness                     1624\n",
       "valence                      1362\n",
       "tempo                       17684\n",
       "duration_ms                 19785\n",
       "dtype: int64"
      ]
     },
     "execution_count": 7,
     "metadata": {},
     "output_type": "execute_result"
    }
   ],
   "source": [
    "df.nunique(dropna=False)"
   ]
  },
  {
   "cell_type": "code",
   "execution_count": null,
   "id": "23263c8c-9f85-45ca-83e5-c4a48342e273",
   "metadata": {
    "tags": []
   },
   "outputs": [],
   "source": [
    "df.describe()"
   ]
  },
  {
   "cell_type": "code",
   "execution_count": null,
   "id": "0d86cb28-bac6-489f-be98-d2c38e517cf3",
   "metadata": {
    "tags": []
   },
   "outputs": [],
   "source": [
    "df.describe(include='object')"
   ]
  },
  {
   "cell_type": "markdown",
   "id": "0b6cc4e1-5d69-4c5a-9ef3-bf6dadbd1e15",
   "metadata": {
    "tags": []
   },
   "source": [
    "* Based on the above analysis `track_id`, `track_album_id` have too many unique values so might not add a lot of value in our analysis and can be removed from the dataset\n",
    "* We could also remove `playlist_id`, `playlist_name` since those are identifier columns\n",
    "* `playlist_subgenre` can also be removed as we also `playlist_genre`. The rationale here is that the data represented by `playlist_subgenere` will also have similar representation if we use `playlist_genre`. So, no need to have two columns that serve the same purpose\n",
    "* `track_artist` can also be removed as there are far too many artist name and will not be valuable for our analysis"
   ]
  },
  {
   "cell_type": "code",
   "execution_count": null,
   "id": "b0447f42-0c6d-4162-b1ba-f0121ca7dc19",
   "metadata": {
    "tags": []
   },
   "outputs": [],
   "source": [
    "df.drop(['track_id','track_album_id','playlist_id','track_artist','playlist_subgenre'], inplace=True, axis=1)"
   ]
  },
  {
   "cell_type": "markdown",
   "id": "4410f1eb-248b-4427-81da-eb3d2bc8e367",
   "metadata": {},
   "source": [
    "We also see that nuber of unique values in the `track_name` is 23449 while the number of rows is 32828. This tells us that there is more than one entry per song. We can confirm this by doing the following - grouping by based on `track_name` and `playlist_name` to see if a song is present in more than one playlist."
   ]
  },
  {
   "cell_type": "code",
   "execution_count": null,
   "id": "6b675bad-803c-4bd2-8348-5de24699d42c",
   "metadata": {
    "tags": []
   },
   "outputs": [],
   "source": [
    "df.groupby(['playlist_name', 'track_name']).size().reset_index(name='num_rows').num_rows.value_counts()"
   ]
  },
  {
   "cell_type": "markdown",
   "id": "b63ebf13-6eec-47b1-819b-23a6c83a81fe",
   "metadata": {},
   "source": [
    "TODO: We need to decide how we are going to handle the duplicates"
   ]
  },
  {
   "cell_type": "code",
   "execution_count": null,
   "id": "b80bcfbc-3baf-4c5e-8649-60519cb5f072",
   "metadata": {
    "tags": []
   },
   "outputs": [],
   "source": [
    "df.info()"
   ]
  },
  {
   "cell_type": "markdown",
   "id": "a1a5f5fe-8fc8-4bb1-b6dc-dd3d9ebe3331",
   "metadata": {},
   "source": [
    "## Visualizing Continous Variables\n",
    "\n",
    "To visualize continous variable we will be using Histograms with KDE plots"
   ]
  },
  {
   "cell_type": "code",
   "execution_count": null,
   "id": "37d59afe-e3ba-4f4c-a37e-d969dd4952cd",
   "metadata": {
    "tags": []
   },
   "outputs": [],
   "source": [
    "continuous_vars = df.select_dtypes(include=['float64', 'int64']).columns\n",
    "\n",
    "# Create a grid of subplots using Matplotlib\n",
    "nrows, ncols = 4,4\n",
    "fig, axes = plt.subplots(nrows=nrows, ncols=ncols, figsize=(20, 12))\n",
    "axes = axes.flatten() \n",
    "\n",
    "# Iterate over continuous variables and plot histograms using Seaborn\n",
    "for i, var in enumerate(continuous_vars):\n",
    "    ax = sns.histplot(data=df, x=var, kde=True, ax=axes[i])\n",
    "    ax.lines[0].set_color('blue')\n",
    "# Adjust spacing between subplots\n",
    "plt.subplots_adjust(hspace=0.5)\n",
    "\n",
    "\n",
    "\n",
    "# Show the plot\n",
    "plt.show()"
   ]
  },
  {
   "cell_type": "code",
   "execution_count": null,
   "id": "763ffcb9-a201-4abe-8896-dedecb3a7e9c",
   "metadata": {
    "tags": []
   },
   "outputs": [],
   "source": [
    "continuous_vars = df.select_dtypes(include=['float64', 'int64']).columns\n",
    "\n",
    "# Create a grid of subplots using Matplotlib\n",
    "nrows, ncols = 4,4\n",
    "fig, axes = plt.subplots(nrows=nrows, ncols=ncols, figsize=(20, 12))\n",
    "axes = axes.flatten() \n",
    "\n",
    "# Iterate over continuous variables and plot histograms using Seaborn\n",
    "for i, var in enumerate(continuous_vars):\n",
    "    ax = sns.boxplot(data=df, x=var, ax=axes[i])\n",
    "    ax.set_title(var)\n",
    "# Adjust spacing between subplots\n",
    "plt.subplots_adjust(hspace=0.5)\n",
    "\n",
    "\n",
    "\n",
    "# Show the plot\n",
    "plt.show()\n"
   ]
  },
  {
   "cell_type": "markdown",
   "id": "babed866-6a64-43e3-8c27-593686c6ed02",
   "metadata": {
    "tags": []
   },
   "source": [
    "### Observation\n",
    "We can see that  speechiness, instrumentalness, liveness, acousticness are skewed right.\n",
    "\n",
    "loudness, mode, time_signature are skewed left.\n",
    "\n",
    "Only danceability, energy, valence, tempo have normal distribution.\n",
    "\n",
    "Before we can use the data for modeling, we must transform the left and right skewed features have more symmetrical and bell-shaped distributions."
   ]
  },
  {
   "cell_type": "code",
   "execution_count": null,
   "id": "fbacc431-3855-4b35-a773-203c496128f4",
   "metadata": {
    "tags": []
   },
   "outputs": [],
   "source": [
    "df.release_year.skew()"
   ]
  },
  {
   "cell_type": "markdown",
   "id": "2de2ce3e-aed0-475a-8405-ee51661db5f7",
   "metadata": {},
   "source": [
    "## Analyzing target/output variable `track_popularity`\n",
    "\n",
    "Above histogram shows that track_popularity is mostly normally distributed but the value 0 has lot more entries that other values. We can firther confirm that using the following boxplot"
   ]
  },
  {
   "cell_type": "code",
   "execution_count": 18,
   "id": "3284243d-d7d0-4de5-b193-3b4d4280a867",
   "metadata": {
    "tags": []
   },
   "outputs": [
    {
     "data": {
      "text/plain": [
       "<Axes: xlabel='track_popularity'>"
      ]
     },
     "execution_count": 18,
     "metadata": {},
     "output_type": "execute_result"
    },
    {
     "data": {
      "image/png": "[encoded data removed]",
      "text/plain": [
       "<Figure size 640x480 with 1 Axes>"
      ]
     },
     "metadata": {},
     "output_type": "display_data"
    }
   ],
   "source": [
    "sns.boxplot(x=df[\"track_popularity\"], showmeans=True, width=0.2)"
   ]
  },
  {
   "cell_type": "markdown",
   "id": "bf5cd282-2331-40f9-9d52-7d661bcafabf",
   "metadata": {},
   "source": [
    "**This also shows that although track_popularity is an integer column it is not a continous output. The values are between 0 and 100. A linear regression would require the output to be continous. Since that is not the case this can be considered a classification problem**"
   ]
  },
  {
   "cell_type": "code",
   "execution_count": 19,
   "id": "52d657ff-c729-4127-bc54-d6f3b57d5773",
   "metadata": {
    "tags": []
   },
   "outputs": [],
   "source": [
    "df['track_popularity_bin'] = np.where( df.track_popularity > 50, 1, 0 )"
   ]
  },
  {
   "cell_type": "code",
   "execution_count": 20,
   "id": "dfb5e243-3d5a-484a-b9e8-877990567d71",
   "metadata": {
    "tags": []
   },
   "outputs": [
    {
     "data": {
      "text/plain": [
       "track_popularity_bin\n",
       "0    0.574757\n",
       "1    0.425243\n",
       "Name: proportion, dtype: float64"
      ]
     },
     "execution_count": 20,
     "metadata": {},
     "output_type": "execute_result"
    }
   ],
   "source": [
    "df.track_popularity_bin.value_counts(normalize=True)"
   ]
  },
  {
   "cell_type": "code",
   "execution_count": null,
   "id": "6810039d-7e52-4b79-88e1-2c48c615b89e",
   "metadata": {
    "tags": []
   },
   "outputs": [],
   "source": [
    "df['release_year_bin'] = np.where( df.release_year < 2010 , 'older', 'recent')"
   ]
  },
  {
   "cell_type": "code",
   "execution_count": null,
   "id": "d7c6f7a1-63ae-42d3-b5e5-bdd6deb539c1",
   "metadata": {
    "tags": []
   },
   "outputs": [],
   "source": [
    "sns.catplot(data = df, x='release_year_bin', kind='count', height=7)\n",
    "\n",
    "plt.show()"
   ]
  },
  {
   "cell_type": "code",
   "execution_count": null,
   "id": "3e262c3b-e41d-4eab-9056-3002ae49982c",
   "metadata": {
    "tags": []
   },
   "outputs": [],
   "source": [
    "sns.catplot( data = df, x='playlist_genre', hue='track_popularity_bin', kind='count')\n",
    "\n",
    "plt.show()"
   ]
  },
  {
   "cell_type": "code",
   "execution_count": null,
   "id": "6a05a39f-96ec-4187-9623-b6a2508b7c3b",
   "metadata": {
    "tags": []
   },
   "outputs": [],
   "source": [
    "sns.catplot( data = df, x='release_year_bin', hue='track_popularity_bin', kind='count')\n",
    "\n",
    "plt.show()"
   ]
  },
  {
   "cell_type": "code",
   "execution_count": null,
   "id": "a741ca04-8cec-478a-889d-d712b37ce7e2",
   "metadata": {
    "tags": []
   },
   "outputs": [],
   "source": [
    "sns.catplot( data = df, col='release_year_bin', hue='track_popularity_bin', x = 'playlist_genre', kind='count')\n",
    "\n",
    "plt.show()"
   ]
  },
  {
   "cell_type": "markdown",
   "id": "d3e882da-7767-4d7c-8b16-b5bd540cf067",
   "metadata": {
    "tags": []
   },
   "source": [
    "In the recent years pop and rap are the popular genre while in the older years rock has been the popular genre"
   ]
  },
  {
   "cell_type": "markdown",
   "id": "484244ae-2fd0-4b29-9249-06cdff43c3d5",
   "metadata": {
    "tags": []
   },
   "source": [
    "## Analyzing Categorical Variables"
   ]
  },
  {
   "cell_type": "markdown",
   "id": "9becec56-6b6e-489c-a3eb-f84a854fa602",
   "metadata": {
    "tags": []
   },
   "source": [
    "Based on the dataframe info we can determine that following columns are categorical variables\n",
    "\n",
    "1. track_id\n",
    "2. track_name\n",
    "3. track_artist\n",
    "4. track_album_id\n",
    "5. track_album_name\n",
    "6. track_album_release_date\n",
    "7. playlist_name\n",
    "8. playlist_id\n",
    "9. playlist_genre\n",
    "10. playlist_subgenre\n",
    "\n",
    "\n"
   ]
  },
  {
   "cell_type": "code",
   "execution_count": 8,
   "id": "8448ab34-8893-42d4-b2f5-e00a6730ec97",
   "metadata": {
    "tags": []
   },
   "outputs": [
    {
     "data": {
      "text/html": [
       "<div>\n",
       "<style scoped>\n",
       "    .dataframe tbody tr th:only-of-type {\n",
       "        vertical-align: middle;\n",
       "    }\n",
       "\n",
       "    .dataframe tbody tr th {\n",
       "        vertical-align: top;\n",
       "    }\n",
       "\n",
       "    .dataframe thead th {\n",
       "        text-align: right;\n",
       "    }\n",
       "</style>\n",
       "<table border=\"1\" class=\"dataframe\">\n",
       "  <thead>\n",
       "    <tr style=\"text-align: right;\">\n",
       "      <th></th>\n",
       "      <th>track_id</th>\n",
       "      <th>track_name</th>\n",
       "      <th>track_artist</th>\n",
       "      <th>track_album_id</th>\n",
       "      <th>track_album_name</th>\n",
       "      <th>track_album_release_date</th>\n",
       "      <th>playlist_name</th>\n",
       "      <th>playlist_id</th>\n",
       "      <th>playlist_genre</th>\n",
       "      <th>playlist_subgenre</th>\n",
       "    </tr>\n",
       "  </thead>\n",
       "  <tbody>\n",
       "    <tr>\n",
       "      <th>count</th>\n",
       "      <td>32833</td>\n",
       "      <td>32828</td>\n",
       "      <td>32828</td>\n",
       "      <td>32833</td>\n",
       "      <td>32828</td>\n",
       "      <td>32833</td>\n",
       "      <td>32833</td>\n",
       "      <td>32833</td>\n",
       "      <td>32833</td>\n",
       "      <td>32833</td>\n",
       "    </tr>\n",
       "    <tr>\n",
       "      <th>unique</th>\n",
       "      <td>28356</td>\n",
       "      <td>23449</td>\n",
       "      <td>10692</td>\n",
       "      <td>22545</td>\n",
       "      <td>19743</td>\n",
       "      <td>4530</td>\n",
       "      <td>449</td>\n",
       "      <td>471</td>\n",
       "      <td>6</td>\n",
       "      <td>24</td>\n",
       "    </tr>\n",
       "    <tr>\n",
       "      <th>top</th>\n",
       "      <td>7BKLCZ1jbUBVqRi2FVlTVw</td>\n",
       "      <td>Poison</td>\n",
       "      <td>Martin Garrix</td>\n",
       "      <td>5L1xcowSxwzFUSJzvyMp48</td>\n",
       "      <td>Greatest Hits</td>\n",
       "      <td>2020-01-10</td>\n",
       "      <td>Indie Poptimism</td>\n",
       "      <td>4JkkvMpVl4lSioqQjeAL0q</td>\n",
       "      <td>edm</td>\n",
       "      <td>progressive electro house</td>\n",
       "    </tr>\n",
       "    <tr>\n",
       "      <th>freq</th>\n",
       "      <td>10</td>\n",
       "      <td>22</td>\n",
       "      <td>161</td>\n",
       "      <td>42</td>\n",
       "      <td>139</td>\n",
       "      <td>270</td>\n",
       "      <td>308</td>\n",
       "      <td>247</td>\n",
       "      <td>6043</td>\n",
       "      <td>1809</td>\n",
       "    </tr>\n",
       "  </tbody>\n",
       "</table>\n",
       "</div>"
      ],
      "text/plain": [
       "                      track_id track_name   track_artist  \\\n",
       "count                    32833      32828          32828   \n",
       "unique                   28356      23449          10692   \n",
       "top     7BKLCZ1jbUBVqRi2FVlTVw     Poison  Martin Garrix   \n",
       "freq                        10         22            161   \n",
       "\n",
       "                track_album_id track_album_name track_album_release_date  \\\n",
       "count                    32833            32828                    32833   \n",
       "unique                   22545            19743                     4530   \n",
       "top     5L1xcowSxwzFUSJzvyMp48    Greatest Hits               2020-01-10   \n",
       "freq                        42              139                      270   \n",
       "\n",
       "          playlist_name             playlist_id playlist_genre  \\\n",
       "count             32833                   32833          32833   \n",
       "unique              449                     471              6   \n",
       "top     Indie Poptimism  4JkkvMpVl4lSioqQjeAL0q            edm   \n",
       "freq                308                     247           6043   \n",
       "\n",
       "                playlist_subgenre  \n",
       "count                       32833  \n",
       "unique                         24  \n",
       "top     progressive electro house  \n",
       "freq                         1809  "
      ]
     },
     "execution_count": 8,
     "metadata": {},
     "output_type": "execute_result"
    }
   ],
   "source": [
    "# Basic Analysis\n",
    "\n",
    "df.describe(include='object')"
   ]
  },
  {
   "cell_type": "markdown",
   "id": "8cc77f59-0866-461b-b798-f8f7e03ecd54",
   "metadata": {},
   "source": [
    "* There are far too many unique values in the columns `track_album_name`, `track_name`, `track_artist`, `playlist_name`. This makes these columns not very useful for training a model and it is not practical to show visualization for these columns\n",
    "\n",
    "* Identifier columns like `track_id`, `track_album_id` and `playlist_id` will also not be very useful. We can drop these columns before training a model. We also need to check if there are duplicate data for `track_id` and make a decision on how to handle the duplicates"
   ]
  },
  {
   "cell_type": "markdown",
   "id": "f1dce342-22ba-416d-a5bb-5f33b2e029d7",
   "metadata": {},
   "source": [
    "### Create new columns\n",
    "\n",
    "The given data presents us with the opportunity to create additional columns. These new columns may have an impact on the target variable. \n",
    "\n",
    "In this case, I have used  the column `track_album_release_date` to create two new columns `release_year` and `release_month`"
   ]
  },
  {
   "cell_type": "code",
   "execution_count": 9,
   "id": "67c0ef4d-c935-4e9f-93a1-d2e0e95cdca5",
   "metadata": {
    "tags": []
   },
   "outputs": [],
   "source": [
    "df['track_album_release_date'] = pd.to_datetime(df['track_album_release_date'],  format='mixed')"
   ]
  },
  {
   "cell_type": "code",
   "execution_count": 10,
   "id": "048f7160-76ca-44fe-b473-7855294e6489",
   "metadata": {
    "tags": []
   },
   "outputs": [],
   "source": [
    "df['release_year'] = df.track_album_release_date.dt.year"
   ]
  },
  {
   "cell_type": "code",
   "execution_count": 14,
   "id": "85313bf1-de63-4a5d-bcad-058b4c6bb3c1",
   "metadata": {
    "tags": []
   },
   "outputs": [
    {
     "data": {
      "image/png": "[encoded data removed]",
      "text/plain": [
       "<Figure size 2011.11x1000 with 1 Axes>"
      ]
     },
     "metadata": {},
     "output_type": "display_data"
    }
   ],
   "source": [
    "sns.catplot(data = df, y='release_year', kind='count', height=10, aspect=2)\n",
    "\n",
    "plt.show()"
   ]
  },
  {
   "cell_type": "markdown",
   "id": "7fb01929-21bf-4747-a7cb-c14dfcc1a55c",
   "metadata": {},
   "source": [
    "As seen above, the dataset is mostly made of songs released in the recent years rather than older years. This suggests that we can probably create one more variable that represents the release_year in two buckets. We can put songs released after 2010 in one bucket and songs released before 2010 in another"
   ]
  },
  {
   "cell_type": "code",
   "execution_count": null,
   "id": "8158ef59-38e9-4c31-9232-ade54ee31f6e",
   "metadata": {
    "tags": []
   },
   "outputs": [],
   "source": [
    "df['release_year_bin'] = np.where( df.release_year < 2010 , 'older', 'recent')"
   ]
  },
  {
   "cell_type": "code",
   "execution_count": null,
   "id": "d7c5a853-2194-40b8-ad9e-4efbc8d5192d",
   "metadata": {
    "tags": []
   },
   "outputs": [],
   "source": [
    "sns.catplot(data = df, x='release_year_bin', kind='count', height=7)\n",
    "\n",
    "plt.show()"
   ]
  },
  {
   "cell_type": "code",
   "execution_count": null,
   "id": "e5742794-0253-4ab1-a67d-1040cade2ffc",
   "metadata": {
    "tags": []
   },
   "outputs": [],
   "source": [
    "sns.boxplot(data=df, x=\"release_year_bin\", y=\"track_popularity\", showmeans=True)"
   ]
  },
  {
   "cell_type": "markdown",
   "id": "8e834457-8484-4092-8cdc-0ddedc5b5ac9",
   "metadata": {
    "tags": []
   },
   "source": [
    "The above observation tells us that songs released recently have higher popularity compared to the songs released in the older years. This gives us a good indication that `release_year` can have impact on the `popularity`"
   ]
  },
  {
   "cell_type": "code",
   "execution_count": null,
   "id": "ca5a401e-6e09-44ae-8000-4236bb981cdf",
   "metadata": {
    "tags": []
   },
   "outputs": [],
   "source": [
    "df['release_month'] = df.track_album_release_date.dt.month"
   ]
  },
  {
   "cell_type": "code",
   "execution_count": null,
   "id": "13c34a1c-4187-4109-acc4-b9701c46ff58",
   "metadata": {
    "tags": []
   },
   "outputs": [],
   "source": [
    "sns.catplot(data = df, y='release_month', kind='count', height=11, aspect=1.5)\n",
    "\n",
    "plt.show()"
   ]
  },
  {
   "cell_type": "code",
   "execution_count": null,
   "id": "84e3fb90-c9ad-4451-b74b-079b2a4fb136",
   "metadata": {
    "tags": []
   },
   "outputs": [],
   "source": [
    "sns.catplot(data=df, x=\"release_month\", y=\"track_popularity\", kind='point', aspect=2, linestyle='none')"
   ]
  },
  {
   "cell_type": "markdown",
   "id": "b5e91940-7eea-4f85-a4e0-19652e69db84",
   "metadata": {},
   "source": [
    "Let's visualize additional categorical variables - `key` and `mode`\n",
    "\n",
    "Although, `key` and `mode` are numeric columns, since there are less unique values these can be considered as categorical variables\n",
    "\n"
   ]
  },
  {
   "cell_type": "code",
   "execution_count": 16,
   "id": "5c22323c-fd46-47d2-ba42-e87c2b15adeb",
   "metadata": {
    "tags": []
   },
   "outputs": [
    {
     "data": {
      "text/plain": [
       "<seaborn.axisgrid.FacetGrid at 0x7f00457806d0>"
      ]
     },
     "execution_count": 16,
     "metadata": {},
     "output_type": "execute_result"
    },
    {
     "data": {
      "image/png": "[encoded data removed]",
      "text/plain": [
       "<Figure size 2011.11x1000 with 1 Axes>"
      ]
     },
     "metadata": {},
     "output_type": "display_data"
    }
   ],
   "source": [
    "sns.catplot(data = df, y='key', kind='count', height=10, aspect=2)"
   ]
  },
  {
   "cell_type": "code",
   "execution_count": 30,
   "id": "ae370744-92b7-4e93-a718-9754d326fefe",
   "metadata": {
    "tags": []
   },
   "outputs": [
    {
     "data": {
      "image/png": "[encoded data removed]",
      "text/plain": [
       "<Figure size 511.111x500 with 1 Axes>"
      ]
     },
     "metadata": {},
     "output_type": "display_data"
    }
   ],
   "source": [
    "sns.catplot( data = df, x='key', y='track_popularity', kind='point', linestyle='none')\n",
    "\n",
    "plt.show()"
   ]
  },
  {
   "cell_type": "markdown",
   "id": "5dd6cfb8-d4ac-4343-b9b4-75be3fcb9d1d",
   "metadata": {},
   "source": [
    "Songs with higher popularity tend to have higher value for `key`"
   ]
  },
  {
   "cell_type": "code",
   "execution_count": 31,
   "id": "5416add7-b1d4-4ddd-a645-5bb670b7c2ec",
   "metadata": {
    "tags": []
   },
   "outputs": [
    {
     "data": {
      "text/plain": [
       "<seaborn.axisgrid.FacetGrid at 0x7f002d9be770>"
      ]
     },
     "execution_count": 31,
     "metadata": {},
     "output_type": "execute_result"
    },
    {
     "data": {
      "image/png": "[encoded data removed]",
      "text/plain": [
       "<Figure size 2011.11x1000 with 1 Axes>"
      ]
     },
     "metadata": {},
     "output_type": "display_data"
    }
   ],
   "source": [
    "sns.catplot(data = df, y='mode', kind='count', height=10, aspect=2)"
   ]
  },
  {
   "cell_type": "code",
   "execution_count": 32,
   "id": "51cd555b-b151-49fc-b7a9-041a8db3d39d",
   "metadata": {
    "tags": []
   },
   "outputs": [
    {
     "data": {
      "image/png": "[encoded data removed]",
      "text/plain": [
       "<Figure size 511.111x500 with 1 Axes>"
      ]
     },
     "metadata": {},
     "output_type": "display_data"
    }
   ],
   "source": [
    "sns.catplot( data = df, x='mode', y='track_popularity', kind='point', linestyle='none')\n",
    "\n",
    "plt.show()"
   ]
  },
  {
   "cell_type": "markdown",
   "id": "3b8393eb-0ab6-4f3b-b81c-e23d5e2b2247",
   "metadata": {
    "tags": []
   },
   "source": [
    "Songs with higher popularity tend to have 1 as the `mode`"
   ]
  },
  {
   "cell_type": "markdown",
   "id": "6f58a6db-d263-436b-88b1-fe1f6fa78644",
   "metadata": {
    "tags": []
   },
   "source": [
    "________________________________________________"
   ]
  },
  {
   "cell_type": "code",
   "execution_count": null,
   "id": "8b0cd3eb-4a46-4165-8514-fef5769216f3",
   "metadata": {
    "tags": []
   },
   "outputs": [],
   "source": [
    "grouped = df.groupby(['track_name']).\\\n",
    "aggregate(num_track_pop_values = ('track_popularity', 'nunique'),\n",
    "          num_valence_values = ('valence', 'nunique'),)"
   ]
  },
  {
   "cell_type": "code",
   "execution_count": null,
   "id": "51b99b34-d30f-439d-a053-d602ef411e36",
   "metadata": {
    "tags": []
   },
   "outputs": [],
   "source": [
    "multiple_combinations = grouped[\n",
    "    (grouped['num_track_pop_values'] > 1) | (grouped['num_valence_values'] > 1)\n",
    "].index"
   ]
  },
  {
   "cell_type": "code",
   "execution_count": null,
   "id": "023a7225-00a3-46c3-9db3-1206fc9dc532",
   "metadata": {
    "tags": []
   },
   "outputs": [],
   "source": [
    "result = df[df['track_name'].isin(multiple_combinations)]"
   ]
  },
  {
   "cell_type": "code",
   "execution_count": null,
   "id": "3cfbafbe-bccd-45d9-b93c-c2d2616fb34e",
   "metadata": {
    "tags": []
   },
   "outputs": [],
   "source": [
    "result = result.sort_values('track_name')"
   ]
  },
  {
   "cell_type": "code",
   "execution_count": null,
   "id": "23200179-d51e-4aae-ae6d-cae20cb4536d",
   "metadata": {
    "jupyter": {
     "source_hidden": true
    },
    "tags": []
   },
   "outputs": [],
   "source": [
    "result"
   ]
  },
  {
   "cell_type": "code",
   "execution_count": null,
   "id": "04c8384b-b1a5-4ff3-9865-3b1503c2daf2",
   "metadata": {
    "tags": []
   },
   "outputs": [],
   "source": [
    "sns.relplot(data = df, x='liveness', y='energy', hue='track_popularity_bin')\n",
    "\n",
    "plt.show() "
   ]
  },
  {
   "cell_type": "code",
   "execution_count": null,
   "id": "967586fd-6842-4694-ae25-7f92b2c82002",
   "metadata": {
    "tags": []
   },
   "outputs": [],
   "source": [
    "# Iterate over continuous variables and plot histograms using Seaborn\n",
    "for i, var in enumerate(continuous_vars):\n",
    "    sns.displot(data = df, x=var, hue='playlist_genre',\n",
    "            common_norm=False, kind='kde', height=3.5, aspect=1)"
   ]
  },
  {
   "cell_type": "code",
   "execution_count": null,
   "id": "ec5d596c-4405-4a3f-90be-17b0869bc182",
   "metadata": {
    "tags": []
   },
   "outputs": [],
   "source": [
    "# boxplot for numerical columns\n",
    "columns = ['track_popularity', 'duration_ms', 'tempo', 'loudness', 'acousticness', 'danceability', 'energy', 'instrumentalness', 'liveness', 'speechiness', 'valence']\n",
    "fig, axes = plt.subplots(nrows=3, ncols=4, figsize=(15, 10))\n",
    "for i, col in enumerate(columns):\n",
    "    sns.boxplot(y=col, data=df[[f'{col}']], ax=axes[i//4, i%4])\n",
    "    axes[i//4, i%4].set_title(col)\n",
    "plt.tight_layout()\n",
    "plt.show()"
   ]
  },
  {
   "cell_type": "code",
   "execution_count": null,
   "id": "804ed76b-5bf6-4cc9-8e75-58fed716caa6",
   "metadata": {
    "tags": []
   },
   "outputs": [],
   "source": [
    "sns.catplot(data = df, x='playlist_genre', y='danceability', kind='box',\n",
    "            showmeans=True,\n",
    "            meanprops={'marker': 'o', 'markerfacecolor': 'white', 'markeredgecolor': 'black'})\n",
    "\n",
    "plt.show()"
   ]
  },
  {
   "cell_type": "code",
   "execution_count": null,
   "id": "64cbb52b-6815-46f4-be46-b581d110b9d2",
   "metadata": {
    "tags": []
   },
   "outputs": [],
   "source": [
    "import warnings\n",
    "top_n = 10\n",
    "sns.set_style('darkgrid')\n",
    "sns.set(rc={\"axes.facecolor\":\"#F2EAC5\",\"figure.facecolor\":\"#F2EAC5\"})\n",
    "# Get the top N most frequent artists, albums, tracks, and genres\n",
    "top_artists = df['track_artist'].value_counts().head(top_n)\n",
    "top_albums = df['track_album_name'].value_counts().head(top_n)\n",
    "top_tracks = df['track_name'].value_counts().head(top_n)\n",
    "top_genres = df['playlist_genre'].value_counts().head(top_n)\n",
    "\n",
    "# Disable FutureWarning\n",
    "with warnings.catch_warnings():\n",
    "    warnings.simplefilter(\"ignore\", category=FutureWarning)\n",
    "\n",
    "    # Plotting\n",
    "    fig, axes = plt.subplots(nrows=2, ncols=2, figsize=(15, 10))\n",
    "\n",
    "    # Top N Artists\n",
    "    sns.barplot(x=top_artists.values, y=top_artists.index, palette=\"crest\", ax=axes[0, 0], orient='h',  zorder=3, width=0.5)\n",
    "    axes[0, 0].set_title(f'Top {top_n} Artists')\n",
    "    axes[0, 0].set_xlabel('Frequency')\n",
    "    axes[0, 0].xaxis.grid(linestyle='-', linewidth=0.5, alpha=1, zorder=0)\n",
    "\n",
    "    # Top N Albums\n",
    "    sns.barplot(x=top_albums.values, y=top_albums.index, palette=\"crest\", ax=axes[0, 1], orient='h', zorder=3, width=0.5)\n",
    "    axes[0, 1].set_title(f'Top {top_n} Albums')\n",
    "    axes[0, 1].set_xlabel('Frequency')\n",
    "    axes[0, 1].xaxis.grid(linestyle='-', linewidth=0.5, alpha=1, zorder=0)\n",
    "\n",
    "    # Top N Tracks\n",
    "    sns.barplot(x=top_tracks.values, y=top_tracks.index, palette=\"crest\", ax=axes[1, 0], orient='h', zorder=3, width=0.5)\n",
    "    axes[1, 0].set_title(f'Top {top_n} Tracks')\n",
    "    axes[1, 0].set_xlabel('Frequency')\n",
    "    axes[1, 0].xaxis.grid(linestyle='-', linewidth=0.5, alpha=1, zorder=0)\n",
    "\n",
    "    # Top N Genres\n",
    "    sns.barplot(x=top_genres.values, y=top_genres.index, palette=\"crest\", ax=axes[1, 1], orient='h', zorder=3, width=0.5)\n",
    "    axes[1, 1].set_title(f'Top {top_n} Genres')\n",
    "    axes[1, 1].set_xlabel('Frequency')\n",
    "    axes[1, 1].xaxis.grid(linestyle='-', linewidth=0.5, alpha=1, zorder=0)\n",
    "\n",
    "    plt.tight_layout()\n",
    "    plt.show()"
   ]
  },
  {
   "cell_type": "code",
   "execution_count": null,
   "id": "c5b86548-3dd0-491d-bf31-b88069819ee8",
   "metadata": {
    "tags": []
   },
   "outputs": [],
   "source": [
    "for i, var in enumerate(continuous_vars):\n",
    "    sns.displot(data = df, x=var, hue='track_popularity_binary',\n",
    "            common_norm=False, kind='kde', height=3.5, aspect=1)"
   ]
  },
  {
   "cell_type": "code",
   "execution_count": null,
   "id": "b1f2d228-7c73-4b62-9452-d975cd9353a3",
   "metadata": {
    "tags": []
   },
   "outputs": [],
   "source": [
    "sns.relplot(data=df,y='track_popularity',x='loudness', color = 'blue')"
   ]
  },
  {
   "cell_type": "code",
   "execution_count": null,
   "id": "5237db62-cf96-4f79-9fa1-260716ef15cc",
   "metadata": {
    "tags": []
   },
   "outputs": [],
   "source": [
    "sns.catplot(data = df, x='key', y='track_popularity', kind='point', linestyle='none')\n",
    "\n",
    "plt.show()"
   ]
  },
  {
   "cell_type": "code",
   "execution_count": null,
   "id": "e48c1fc5-7016-4ca7-9ea8-b793b158ee76",
   "metadata": {
    "tags": []
   },
   "outputs": [],
   "source": [
    "df.loc[df['track_popularity'] < 50]"
   ]
  },
  {
   "cell_type": "markdown",
   "id": "8462c35a-a5bb-47cf-8743-0c280dfc2109",
   "metadata": {},
   "source": [
    "## Visualize conditional distributions of the continuous inputs GROUPED BY the response (outcome) unique values"
   ]
  },
  {
   "cell_type": "code",
   "execution_count": 27,
   "id": "a0766277-09e8-44f2-a381-039879917512",
   "metadata": {
    "tags": []
   },
   "outputs": [
    {
     "data": {
      "image/png": "[encoded data removed]",
      "text/plain": [
       "<Figure size 453.111x300 with 1 Axes>"
      ]
     },
     "metadata": {},
     "output_type": "display_data"
    }
   ],
   "source": [
    "p = sns.FacetGrid(data=df)\n",
    "p.map(sns.displot,df, x='energy', hue='track_popularity_bin', kind='kde', common_norm=False)\n",
    "p.set(xlim=(0, 1.0))\n",
    "# sns.displot(data = df, x='energy', hue='track_popularity_bin', kind='kde', common_norm=False, height=3)\n",
    "# # using common_norm=False  to remove the sample size effect\n",
    "# plt.show()"
   ]
  },
  {
   "cell_type": "code",
   "execution_count": null,
   "id": "9ebe1db7-9b31-46a7-a956-e31e4f559c5b",
   "metadata": {},
   "outputs": [],
   "source": []
  },
  {
   "cell_type": "code",
   "execution_count": 28,
   "id": "541e2340-6bb5-4465-a3d8-014b1c603852",
   "metadata": {
    "tags": []
   },
   "outputs": [
    {
     "data": {
      "image/png": "[encoded data removed]",
      "text/plain": [
       "<Figure size 453.111x300 with 1 Axes>"
      ]
     },
     "metadata": {},
     "output_type": "display_data"
    }
   ],
   "source": [
    "sns.displot(data = df, x='loudness', hue='track_popularity_bin', kind='kde', common_norm=False, height=3)\n",
    "# using common_norm=False  to remove the sample size effect\n",
    "plt.show()"
   ]
  },
  {
   "cell_type": "code",
   "execution_count": null,
   "id": "c3df289f-1d8c-4f10-a313-51ef0c858e52",
   "metadata": {
    "tags": []
   },
   "outputs": [],
   "source": [
    "sns.displot(data = df, x='danceability', hue='track_popularity_bin', kind='kde', common_norm=False, height=3)\n",
    "# using common_norm=False  to remove the sample size effect\n",
    "plt.show()"
   ]
  },
  {
   "cell_type": "code",
   "execution_count": null,
   "id": "79a19b2e-e87d-4a74-b926-983865366924",
   "metadata": {
    "tags": []
   },
   "outputs": [],
   "source": [
    "sns.displot(data = df, x='speechiness', hue='track_popularity_bin', kind='kde', common_norm=False, height=3)\n",
    "# using common_norm=False  to remove the sample size effect\n",
    "plt.show()"
   ]
  },
  {
   "cell_type": "code",
   "execution_count": null,
   "id": "c3eeb1ad-209b-4176-a6f7-37aec7fe0478",
   "metadata": {
    "tags": []
   },
   "outputs": [],
   "source": [
    "sns.displot(data = df, x='liveness', hue='track_popularity_bin', kind='kde', common_norm=False, height=3)\n",
    "# using common_norm=False  to remove the sample size effect\n",
    "plt.show()"
   ]
  },
  {
   "cell_type": "code",
   "execution_count": null,
   "id": "9250a11e-7baf-4b82-9f77-d92a06dfc537",
   "metadata": {
    "tags": []
   },
   "outputs": [],
   "source": [
    "from ydata_profiling import ProfileReport\n",
    "profile = ProfileReport(df, title=\"Profiling Report\")"
   ]
  },
  {
   "cell_type": "code",
   "execution_count": null,
   "id": "99e206c7-87a2-425f-a716-33def4cfdb5a",
   "metadata": {
    "tags": []
   },
   "outputs": [],
   "source": [
    "profile"
   ]
  },
  {
   "cell_type": "code",
   "execution_count": null,
   "id": "3431ebf2-c497-4c75-9c04-f6de866523b1",
   "metadata": {},
   "outputs": [],
   "source": []
  }
 ],
 "metadata": {
  "kernelspec": {
   "display_name": "conda_python3",
   "language": "python",
   "name": "conda_python3"
  },
  "language_info": {
   "codemirror_mode": {
    "name": "ipython",
    "version": 3
   },
   "file_extension": ".py",
   "mimetype": "text/x-python",
   "name": "python",
   "nbconvert_exporter": "python",
   "pygments_lexer": "ipython3",
   "version": "3.10.14"
  }
 },
 "nbformat": 4,
 "nbformat_minor": 5
}
