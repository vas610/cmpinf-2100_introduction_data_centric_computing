{
 "cells": [
  {
   "cell_type": "markdown",
   "id": "6b258ed1-afc8-4b6f-975d-5de0e8d3f515",
   "metadata": {},
   "source": [
    "## Import Modules"
   ]
  },
  {
   "cell_type": "code",
   "execution_count": 1,
   "id": "fc819d75-859b-425c-9e72-61563f3a8396",
   "metadata": {
    "tags": []
   },
   "outputs": [],
   "source": [
    "import numpy as np\n",
    "import pandas as pd\n",
    "import matplotlib.pyplot as plt\n",
    "\n",
    "import seaborn as sns"
   ]
  },
  {
   "cell_type": "code",
   "execution_count": 2,
   "id": "113058b5-276f-4296-aae3-fc5a952fa0e8",
   "metadata": {
    "tags": []
   },
   "outputs": [],
   "source": [
    "sns.set_palette(palette='gist_earth')"
   ]
  },
  {
   "cell_type": "markdown",
   "id": "44a072e1-7887-432f-a35d-04b06046a596",
   "metadata": {
    "tags": []
   },
   "source": [
    "## Loading the Dataset\n",
    "\n",
    "The following steps loads the dataset from the given URL into a pandas dataframe named `df`"
   ]
  },
  {
   "cell_type": "code",
   "execution_count": 3,
   "id": "f18e398a-90f8-4dfe-8441-74a7ed61d814",
   "metadata": {
    "tags": []
   },
   "outputs": [],
   "source": [
    "songs_url = 'https://raw.githubusercontent.com/rfordatascience/tidytuesday/master/data/2020/2020-01-21/spotify_songs.csv'\n",
    "\n",
    "df = pd.read_csv(songs_url)"
   ]
  },
  {
   "cell_type": "markdown",
   "id": "1508ede2-ba77-4b80-9e32-5cc8b141227c",
   "metadata": {
    "tags": []
   },
   "source": [
    "## Performing essential EDA using pandas methods\n",
    "\n",
    "1. Shape\n",
    "2. Info\n",
    "3. Missing Values\n",
    "4. Unique Values"
   ]
  },
  {
   "cell_type": "markdown",
   "id": "423771da-acb8-426d-88dd-48661a92dcc2",
   "metadata": {},
   "source": [
    "First, we I find the dimensionality of the pandas dataframe using the `df.shape` method. This tells how many rows, columns are there in the dataframe. In this case it is 32833 rows and 23 columns"
   ]
  },
  {
   "cell_type": "code",
   "execution_count": 4,
   "id": "c5b68279-d359-4dff-942f-3520f4a299cb",
   "metadata": {
    "tags": []
   },
   "outputs": [
    {
     "data": {
      "text/plain": [
       "(32833, 23)"
      ]
     },
     "execution_count": 4,
     "metadata": {},
     "output_type": "execute_result"
    }
   ],
   "source": [
    "df.shape"
   ]
  },
  {
   "cell_type": "markdown",
   "id": "d190a4ee-0bb6-400d-bb63-5385c6235d72",
   "metadata": {},
   "source": [
    "Then, I'm exploring the datatypes, count of not-null values in every column of the dataset using the `df.info()` method"
   ]
  },
  {
   "cell_type": "code",
   "execution_count": 5,
   "id": "6eb3dd66-ae3d-43e9-8187-2f069af9888e",
   "metadata": {
    "tags": []
   },
   "outputs": [
    {
     "name": "stdout",
     "output_type": "stream",
     "text": [
      "<class 'pandas.core.frame.DataFrame'>\n",
      "RangeIndex: 32833 entries, 0 to 32832\n",
      "Data columns (total 23 columns):\n",
      " #   Column                    Non-Null Count  Dtype  \n",
      "---  ------                    --------------  -----  \n",
      " 0   track_id                  32833 non-null  object \n",
      " 1   track_name                32828 non-null  object \n",
      " 2   track_artist              32828 non-null  object \n",
      " 3   track_popularity          32833 non-null  int64  \n",
      " 4   track_album_id            32833 non-null  object \n",
      " 5   track_album_name          32828 non-null  object \n",
      " 6   track_album_release_date  32833 non-null  object \n",
      " 7   playlist_name             32833 non-null  object \n",
      " 8   playlist_id               32833 non-null  object \n",
      " 9   playlist_genre            32833 non-null  object \n",
      " 10  playlist_subgenre         32833 non-null  object \n",
      " 11  danceability              32833 non-null  float64\n",
      " 12  energy                    32833 non-null  float64\n",
      " 13  key                       32833 non-null  int64  \n",
      " 14  loudness                  32833 non-null  float64\n",
      " 15  mode                      32833 non-null  int64  \n",
      " 16  speechiness               32833 non-null  float64\n",
      " 17  acousticness              32833 non-null  float64\n",
      " 18  instrumentalness          32833 non-null  float64\n",
      " 19  liveness                  32833 non-null  float64\n",
      " 20  valence                   32833 non-null  float64\n",
      " 21  tempo                     32833 non-null  float64\n",
      " 22  duration_ms               32833 non-null  int64  \n",
      "dtypes: float64(9), int64(4), object(10)\n",
      "memory usage: 5.8+ MB\n"
     ]
    }
   ],
   "source": [
    "df.info()"
   ]
  },
  {
   "cell_type": "markdown",
   "id": "f6a2cb80-d623-4597-9858-45a8520bfff4",
   "metadata": {
    "tags": []
   },
   "source": [
    "Also, below is the description of each of the column in the dataset"
   ]
  },
  {
   "cell_type": "markdown",
   "id": "b36e438d-d3ad-4dc9-ab3c-dcb116f276f3",
   "metadata": {},
   "source": [
    "|variable                 |class     |description |\n",
    "|:---|:---|:-----------|\n",
    "|track_id                 |character | Song unique ID|\n",
    "|track_name               |character | Song Name|\n",
    "|track_artist             |character | Song Artist|\n",
    "|track_popularity         |double    | Song Popularity (0-100) where higher is better |\n",
    "|track_album_id           |character | Album unique ID|\n",
    "|track_album_name         |character | Song album name |\n",
    "|track_album_release_date |character | Date when album released |\n",
    "|playlist_name            |character | Name of playlist |\n",
    "|playlist_id              |character | Playlist ID|\n",
    "|playlist_genre           |character | Playlist genre |\n",
    "|playlist_subgenre        |character | Playlist subgenre|\n",
    "|danceability             |double    | Danceability describes how suitable a track is for dancing based on a combination of musical elements including tempo, rhythm stability, beat strength, and overall regularity. A value of 0.0 is least danceable and 1.0 is most danceable. |\n",
    "|energy                   |double    | Energy is a measure from 0.0 to 1.0 and represents a perceptual measure of intensity and activity. Typically, energetic tracks feel fast, loud, and noisy. For example, death metal has high energy, while a Bach prelude scores low on the scale. Perceptual features contributing to this attribute include dynamic range, perceived loudness, timbre, onset rate, and general entropy. |\n",
    "|key                      |double    | The estimated overall key of the track. Integers map to pitches using standard Pitch Class notation . E.g. 0 = C, 1 = C♯/D♭, 2 = D, and so on. If no key was detected, the value is -1. |\n",
    "|loudness                 |double    | The overall loudness of a track in decibels (dB). Loudness values are averaged across the entire track and are useful for comparing relative loudness of tracks. Loudness is the quality of a sound that is the primary psychological correlate of physical strength (amplitude). Values typical range between -60 and 0 db.|\n",
    "|mode                     |double    | Mode indicates the modality (major or minor) of a track, the type of scale from which its melodic content is derived. Major is represented by 1 and minor is 0.|\n",
    "|speechiness              |double    | Speechiness detects the presence of spoken words in a track. The more exclusively speech-like the recording (e.g. talk show, audio book, poetry), the closer to 1.0 the attribute value. Values above 0.66 describe tracks that are probably made entirely of spoken words. Values between 0.33 and 0.66 describe tracks that may contain both music and speech, either in sections or layered, including such cases as rap music. Values below 0.33 most likely represent music and other non-speech-like tracks. |\n",
    "|acousticness             |double    | A confidence measure from 0.0 to 1.0 of whether the track is acoustic. 1.0 represents high confidence the track is acoustic.|\n",
    "|instrumentalness         |double    | Predicts whether a track contains no vocals. \"Ooh\" and \"aah\" sounds are treated as instrumental in this context. Rap or spoken word tracks are clearly \"vocal\". The closer the instrumentalness value is to 1.0, the greater likelihood the track contains no vocal content. Values above 0.5 are intended to represent instrumental tracks, but confidence is higher as the value approaches 1.0. |\n",
    "|liveness                 |double    | Detects the presence of an audience in the recording. Higher liveness values represent an increased probability that the track was performed live. A value above 0.8 provides strong likelihood that the track is live. |\n",
    "|valence                  |double    | A measure from 0.0 to 1.0 describing the musical positiveness conveyed by a track. Tracks with high valence sound more positive (e.g. happy, cheerful, euphoric), while tracks with low valence sound more negative (e.g. sad, depressed, angry). |\n",
    "|tempo                    |double    | The overall estimated tempo of a track in beats per minute (BPM). In musical terminology, tempo is the speed or pace of a given piece and derives directly from the average beat duration. |\n",
    "|duration_ms              |double    | Duration of song in milliseconds |"
   ]
  },
  {
   "cell_type": "markdown",
   "id": "6ce31bdc-0db2-4e84-841a-2e103054851f",
   "metadata": {},
   "source": [
    "Next, I look to see **number of missing values** for each column. This is important to know so that I can elimate columns with too many missing values as those columns won't provide much insights about the dataset"
   ]
  },
  {
   "cell_type": "code",
   "execution_count": 6,
   "id": "640f5fb1-00f1-4c53-ae44-dcf4fb765be8",
   "metadata": {
    "tags": []
   },
   "outputs": [
    {
     "data": {
      "text/plain": [
       "track_id                    0\n",
       "track_name                  5\n",
       "track_artist                5\n",
       "track_popularity            0\n",
       "track_album_id              0\n",
       "track_album_name            5\n",
       "track_album_release_date    0\n",
       "playlist_name               0\n",
       "playlist_id                 0\n",
       "playlist_genre              0\n",
       "playlist_subgenre           0\n",
       "danceability                0\n",
       "energy                      0\n",
       "key                         0\n",
       "loudness                    0\n",
       "mode                        0\n",
       "speechiness                 0\n",
       "acousticness                0\n",
       "instrumentalness            0\n",
       "liveness                    0\n",
       "valence                     0\n",
       "tempo                       0\n",
       "duration_ms                 0\n",
       "dtype: int64"
      ]
     },
     "execution_count": 6,
     "metadata": {},
     "output_type": "execute_result"
    }
   ],
   "source": [
    "df.isna().sum()"
   ]
  },
  {
   "cell_type": "markdown",
   "id": "bd32cb4d-7c60-444b-9fa6-c097b6e21214",
   "metadata": {},
   "source": [
    "The above analysis shows that only three columns `track_name`, `track_artist`, `track_album_name` have missing values and that too _very minimal number of rows_ with missing value.  So far, I have not dropped any columns based on missing values."
   ]
  },
  {
   "cell_type": "markdown",
   "id": "c6b0f697-f5aa-4da4-80a4-08190114d267",
   "metadata": {
    "tags": []
   },
   "source": [
    "It is now time to look at **number of unique values** for each columns. Columns with too many unique values may not be informative or may lead to overfitting, while columns with too few unique values may not provide enough discriminative power."
   ]
  },
  {
   "cell_type": "code",
   "execution_count": 7,
   "id": "d8b5d19b-3f18-4bb0-83b1-8d761c14d307",
   "metadata": {
    "tags": []
   },
   "outputs": [
    {
     "data": {
      "text/plain": [
       "track_id                    28356\n",
       "track_name                  23450\n",
       "track_artist                10693\n",
       "track_popularity              101\n",
       "track_album_id              22545\n",
       "track_album_name            19744\n",
       "track_album_release_date     4530\n",
       "playlist_name                 449\n",
       "playlist_id                   471\n",
       "playlist_genre                  6\n",
       "playlist_subgenre              24\n",
       "danceability                  822\n",
       "energy                        952\n",
       "key                            12\n",
       "loudness                    10222\n",
       "mode                            2\n",
       "speechiness                  1270\n",
       "acousticness                 3731\n",
       "instrumentalness             4729\n",
       "liveness                     1624\n",
       "valence                      1362\n",
       "tempo                       17684\n",
       "duration_ms                 19785\n",
       "dtype: int64"
      ]
     },
     "execution_count": 7,
     "metadata": {},
     "output_type": "execute_result"
    }
   ],
   "source": [
    "df.nunique(dropna=False)"
   ]
  },
  {
   "cell_type": "code",
   "execution_count": 8,
   "id": "23263c8c-9f85-45ca-83e5-c4a48342e273",
   "metadata": {
    "tags": []
   },
   "outputs": [
    {
     "data": {
      "text/html": [
       "<div>\n",
       "<style scoped>\n",
       "    .dataframe tbody tr th:only-of-type {\n",
       "        vertical-align: middle;\n",
       "    }\n",
       "\n",
       "    .dataframe tbody tr th {\n",
       "        vertical-align: top;\n",
       "    }\n",
       "\n",
       "    .dataframe thead th {\n",
       "        text-align: right;\n",
       "    }\n",
       "</style>\n",
       "<table border=\"1\" class=\"dataframe\">\n",
       "  <thead>\n",
       "    <tr style=\"text-align: right;\">\n",
       "      <th></th>\n",
       "      <th>track_popularity</th>\n",
       "      <th>danceability</th>\n",
       "      <th>energy</th>\n",
       "      <th>key</th>\n",
       "      <th>loudness</th>\n",
       "      <th>mode</th>\n",
       "      <th>speechiness</th>\n",
       "      <th>acousticness</th>\n",
       "      <th>instrumentalness</th>\n",
       "      <th>liveness</th>\n",
       "      <th>valence</th>\n",
       "      <th>tempo</th>\n",
       "      <th>duration_ms</th>\n",
       "    </tr>\n",
       "  </thead>\n",
       "  <tbody>\n",
       "    <tr>\n",
       "      <th>count</th>\n",
       "      <td>32833.000000</td>\n",
       "      <td>32833.000000</td>\n",
       "      <td>32833.000000</td>\n",
       "      <td>32833.000000</td>\n",
       "      <td>32833.000000</td>\n",
       "      <td>32833.000000</td>\n",
       "      <td>32833.000000</td>\n",
       "      <td>32833.000000</td>\n",
       "      <td>32833.000000</td>\n",
       "      <td>32833.000000</td>\n",
       "      <td>32833.000000</td>\n",
       "      <td>32833.000000</td>\n",
       "      <td>32833.000000</td>\n",
       "    </tr>\n",
       "    <tr>\n",
       "      <th>mean</th>\n",
       "      <td>42.477081</td>\n",
       "      <td>0.654850</td>\n",
       "      <td>0.698619</td>\n",
       "      <td>5.374471</td>\n",
       "      <td>-6.719499</td>\n",
       "      <td>0.565711</td>\n",
       "      <td>0.107068</td>\n",
       "      <td>0.175334</td>\n",
       "      <td>0.084747</td>\n",
       "      <td>0.190176</td>\n",
       "      <td>0.510561</td>\n",
       "      <td>120.881132</td>\n",
       "      <td>225799.811622</td>\n",
       "    </tr>\n",
       "    <tr>\n",
       "      <th>std</th>\n",
       "      <td>24.984074</td>\n",
       "      <td>0.145085</td>\n",
       "      <td>0.180910</td>\n",
       "      <td>3.611657</td>\n",
       "      <td>2.988436</td>\n",
       "      <td>0.495671</td>\n",
       "      <td>0.101314</td>\n",
       "      <td>0.219633</td>\n",
       "      <td>0.224230</td>\n",
       "      <td>0.154317</td>\n",
       "      <td>0.233146</td>\n",
       "      <td>26.903624</td>\n",
       "      <td>59834.006182</td>\n",
       "    </tr>\n",
       "    <tr>\n",
       "      <th>min</th>\n",
       "      <td>0.000000</td>\n",
       "      <td>0.000000</td>\n",
       "      <td>0.000175</td>\n",
       "      <td>0.000000</td>\n",
       "      <td>-46.448000</td>\n",
       "      <td>0.000000</td>\n",
       "      <td>0.000000</td>\n",
       "      <td>0.000000</td>\n",
       "      <td>0.000000</td>\n",
       "      <td>0.000000</td>\n",
       "      <td>0.000000</td>\n",
       "      <td>0.000000</td>\n",
       "      <td>4000.000000</td>\n",
       "    </tr>\n",
       "    <tr>\n",
       "      <th>25%</th>\n",
       "      <td>24.000000</td>\n",
       "      <td>0.563000</td>\n",
       "      <td>0.581000</td>\n",
       "      <td>2.000000</td>\n",
       "      <td>-8.171000</td>\n",
       "      <td>0.000000</td>\n",
       "      <td>0.041000</td>\n",
       "      <td>0.015100</td>\n",
       "      <td>0.000000</td>\n",
       "      <td>0.092700</td>\n",
       "      <td>0.331000</td>\n",
       "      <td>99.960000</td>\n",
       "      <td>187819.000000</td>\n",
       "    </tr>\n",
       "    <tr>\n",
       "      <th>50%</th>\n",
       "      <td>45.000000</td>\n",
       "      <td>0.672000</td>\n",
       "      <td>0.721000</td>\n",
       "      <td>6.000000</td>\n",
       "      <td>-6.166000</td>\n",
       "      <td>1.000000</td>\n",
       "      <td>0.062500</td>\n",
       "      <td>0.080400</td>\n",
       "      <td>0.000016</td>\n",
       "      <td>0.127000</td>\n",
       "      <td>0.512000</td>\n",
       "      <td>121.984000</td>\n",
       "      <td>216000.000000</td>\n",
       "    </tr>\n",
       "    <tr>\n",
       "      <th>75%</th>\n",
       "      <td>62.000000</td>\n",
       "      <td>0.761000</td>\n",
       "      <td>0.840000</td>\n",
       "      <td>9.000000</td>\n",
       "      <td>-4.645000</td>\n",
       "      <td>1.000000</td>\n",
       "      <td>0.132000</td>\n",
       "      <td>0.255000</td>\n",
       "      <td>0.004830</td>\n",
       "      <td>0.248000</td>\n",
       "      <td>0.693000</td>\n",
       "      <td>133.918000</td>\n",
       "      <td>253585.000000</td>\n",
       "    </tr>\n",
       "    <tr>\n",
       "      <th>max</th>\n",
       "      <td>100.000000</td>\n",
       "      <td>0.983000</td>\n",
       "      <td>1.000000</td>\n",
       "      <td>11.000000</td>\n",
       "      <td>1.275000</td>\n",
       "      <td>1.000000</td>\n",
       "      <td>0.918000</td>\n",
       "      <td>0.994000</td>\n",
       "      <td>0.994000</td>\n",
       "      <td>0.996000</td>\n",
       "      <td>0.991000</td>\n",
       "      <td>239.440000</td>\n",
       "      <td>517810.000000</td>\n",
       "    </tr>\n",
       "  </tbody>\n",
       "</table>\n",
       "</div>"
      ],
      "text/plain": [
       "       track_popularity  danceability        energy           key  \\\n",
       "count      32833.000000  32833.000000  32833.000000  32833.000000   \n",
       "mean          42.477081      0.654850      0.698619      5.374471   \n",
       "std           24.984074      0.145085      0.180910      3.611657   \n",
       "min            0.000000      0.000000      0.000175      0.000000   \n",
       "25%           24.000000      0.563000      0.581000      2.000000   \n",
       "50%           45.000000      0.672000      0.721000      6.000000   \n",
       "75%           62.000000      0.761000      0.840000      9.000000   \n",
       "max          100.000000      0.983000      1.000000     11.000000   \n",
       "\n",
       "           loudness          mode   speechiness  acousticness  \\\n",
       "count  32833.000000  32833.000000  32833.000000  32833.000000   \n",
       "mean      -6.719499      0.565711      0.107068      0.175334   \n",
       "std        2.988436      0.495671      0.101314      0.219633   \n",
       "min      -46.448000      0.000000      0.000000      0.000000   \n",
       "25%       -8.171000      0.000000      0.041000      0.015100   \n",
       "50%       -6.166000      1.000000      0.062500      0.080400   \n",
       "75%       -4.645000      1.000000      0.132000      0.255000   \n",
       "max        1.275000      1.000000      0.918000      0.994000   \n",
       "\n",
       "       instrumentalness      liveness       valence         tempo  \\\n",
       "count      32833.000000  32833.000000  32833.000000  32833.000000   \n",
       "mean           0.084747      0.190176      0.510561    120.881132   \n",
       "std            0.224230      0.154317      0.233146     26.903624   \n",
       "min            0.000000      0.000000      0.000000      0.000000   \n",
       "25%            0.000000      0.092700      0.331000     99.960000   \n",
       "50%            0.000016      0.127000      0.512000    121.984000   \n",
       "75%            0.004830      0.248000      0.693000    133.918000   \n",
       "max            0.994000      0.996000      0.991000    239.440000   \n",
       "\n",
       "         duration_ms  \n",
       "count   32833.000000  \n",
       "mean   225799.811622  \n",
       "std     59834.006182  \n",
       "min      4000.000000  \n",
       "25%    187819.000000  \n",
       "50%    216000.000000  \n",
       "75%    253585.000000  \n",
       "max    517810.000000  "
      ]
     },
     "execution_count": 8,
     "metadata": {},
     "output_type": "execute_result"
    }
   ],
   "source": [
    "df.describe()"
   ]
  },
  {
   "cell_type": "code",
   "execution_count": 9,
   "id": "0d86cb28-bac6-489f-be98-d2c38e517cf3",
   "metadata": {
    "tags": []
   },
   "outputs": [
    {
     "data": {
      "text/html": [
       "<div>\n",
       "<style scoped>\n",
       "    .dataframe tbody tr th:only-of-type {\n",
       "        vertical-align: middle;\n",
       "    }\n",
       "\n",
       "    .dataframe tbody tr th {\n",
       "        vertical-align: top;\n",
       "    }\n",
       "\n",
       "    .dataframe thead th {\n",
       "        text-align: right;\n",
       "    }\n",
       "</style>\n",
       "<table border=\"1\" class=\"dataframe\">\n",
       "  <thead>\n",
       "    <tr style=\"text-align: right;\">\n",
       "      <th></th>\n",
       "      <th>track_id</th>\n",
       "      <th>track_name</th>\n",
       "      <th>track_artist</th>\n",
       "      <th>track_album_id</th>\n",
       "      <th>track_album_name</th>\n",
       "      <th>track_album_release_date</th>\n",
       "      <th>playlist_name</th>\n",
       "      <th>playlist_id</th>\n",
       "      <th>playlist_genre</th>\n",
       "      <th>playlist_subgenre</th>\n",
       "    </tr>\n",
       "  </thead>\n",
       "  <tbody>\n",
       "    <tr>\n",
       "      <th>count</th>\n",
       "      <td>32833</td>\n",
       "      <td>32828</td>\n",
       "      <td>32828</td>\n",
       "      <td>32833</td>\n",
       "      <td>32828</td>\n",
       "      <td>32833</td>\n",
       "      <td>32833</td>\n",
       "      <td>32833</td>\n",
       "      <td>32833</td>\n",
       "      <td>32833</td>\n",
       "    </tr>\n",
       "    <tr>\n",
       "      <th>unique</th>\n",
       "      <td>28356</td>\n",
       "      <td>23449</td>\n",
       "      <td>10692</td>\n",
       "      <td>22545</td>\n",
       "      <td>19743</td>\n",
       "      <td>4530</td>\n",
       "      <td>449</td>\n",
       "      <td>471</td>\n",
       "      <td>6</td>\n",
       "      <td>24</td>\n",
       "    </tr>\n",
       "    <tr>\n",
       "      <th>top</th>\n",
       "      <td>7BKLCZ1jbUBVqRi2FVlTVw</td>\n",
       "      <td>Poison</td>\n",
       "      <td>Martin Garrix</td>\n",
       "      <td>5L1xcowSxwzFUSJzvyMp48</td>\n",
       "      <td>Greatest Hits</td>\n",
       "      <td>2020-01-10</td>\n",
       "      <td>Indie Poptimism</td>\n",
       "      <td>4JkkvMpVl4lSioqQjeAL0q</td>\n",
       "      <td>edm</td>\n",
       "      <td>progressive electro house</td>\n",
       "    </tr>\n",
       "    <tr>\n",
       "      <th>freq</th>\n",
       "      <td>10</td>\n",
       "      <td>22</td>\n",
       "      <td>161</td>\n",
       "      <td>42</td>\n",
       "      <td>139</td>\n",
       "      <td>270</td>\n",
       "      <td>308</td>\n",
       "      <td>247</td>\n",
       "      <td>6043</td>\n",
       "      <td>1809</td>\n",
       "    </tr>\n",
       "  </tbody>\n",
       "</table>\n",
       "</div>"
      ],
      "text/plain": [
       "                      track_id track_name   track_artist  \\\n",
       "count                    32833      32828          32828   \n",
       "unique                   28356      23449          10692   \n",
       "top     7BKLCZ1jbUBVqRi2FVlTVw     Poison  Martin Garrix   \n",
       "freq                        10         22            161   \n",
       "\n",
       "                track_album_id track_album_name track_album_release_date  \\\n",
       "count                    32833            32828                    32833   \n",
       "unique                   22545            19743                     4530   \n",
       "top     5L1xcowSxwzFUSJzvyMp48    Greatest Hits               2020-01-10   \n",
       "freq                        42              139                      270   \n",
       "\n",
       "          playlist_name             playlist_id playlist_genre  \\\n",
       "count             32833                   32833          32833   \n",
       "unique              449                     471              6   \n",
       "top     Indie Poptimism  4JkkvMpVl4lSioqQjeAL0q            edm   \n",
       "freq                308                     247           6043   \n",
       "\n",
       "                playlist_subgenre  \n",
       "count                       32833  \n",
       "unique                         24  \n",
       "top     progressive electro house  \n",
       "freq                         1809  "
      ]
     },
     "execution_count": 9,
     "metadata": {},
     "output_type": "execute_result"
    }
   ],
   "source": [
    "df.describe(include='object')"
   ]
  },
  {
   "cell_type": "markdown",
   "id": "0b6cc4e1-5d69-4c5a-9ef3-bf6dadbd1e15",
   "metadata": {
    "tags": []
   },
   "source": [
    "* Based on the above analysis `track_id`, `track_album_id` have too many unique values so might not add a lot of value in our analysis and can be removed from the dataset\n",
    "* We could also remove `playlist_id`, `playlist_name` since those are identifier columns\n",
    "* `playlist_subgenre` can also be removed as we also `playlist_genre`. The rationale here is that the data represented by `playlist_subgenere` will also have similar representation if we use `playlist_genre`. So, no need to have two columns that serve the same purpose\n",
    "* `track_artist` can also be removed as there are far too many artist name and will not be valuable for our analysis"
   ]
  },
  {
   "cell_type": "code",
   "execution_count": null,
   "id": "b0447f42-0c6d-4162-b1ba-f0121ca7dc19",
   "metadata": {
    "tags": []
   },
   "outputs": [],
   "source": [
    "df.drop(['track_id','track_album_id','playlist_id','track_artist','playlist_subgenre'], inplace=True, axis=1)"
   ]
  },
  {
   "cell_type": "markdown",
   "id": "4410f1eb-248b-4427-81da-eb3d2bc8e367",
   "metadata": {},
   "source": [
    "We also see that nuber of unique values in the `track_name` is 23449 while the number of rows is 32828. This tells us that there is more than one entry per song. We can confirm this by doing the following - grouping by based on `track_name` and `playlist_name` to see if a song is present in more than one playlist."
   ]
  },
  {
   "cell_type": "code",
   "execution_count": 15,
   "id": "6b675bad-803c-4bd2-8348-5de24699d42c",
   "metadata": {
    "tags": []
   },
   "outputs": [
    {
     "data": {
      "text/plain": [
       "num_rows\n",
       "1    31418\n",
       "2      620\n",
       "3       54\n",
       "4        2\n",
       "Name: count, dtype: int64"
      ]
     },
     "execution_count": 15,
     "metadata": {},
     "output_type": "execute_result"
    }
   ],
   "source": [
    "df.groupby(['playlist_name', 'track_name']).size().reset_index(name='num_rows').num_rows.value_counts()"
   ]
  },
  {
   "cell_type": "markdown",
   "id": "b63ebf13-6eec-47b1-819b-23a6c83a81fe",
   "metadata": {},
   "source": [
    "TODO: We need to decide how we are going to handle the duplicates"
   ]
  },
  {
   "cell_type": "code",
   "execution_count": 16,
   "id": "b80bcfbc-3baf-4c5e-8649-60519cb5f072",
   "metadata": {
    "tags": []
   },
   "outputs": [
    {
     "name": "stdout",
     "output_type": "stream",
     "text": [
      "<class 'pandas.core.frame.DataFrame'>\n",
      "RangeIndex: 32833 entries, 0 to 32832\n",
      "Data columns (total 18 columns):\n",
      " #   Column                    Non-Null Count  Dtype  \n",
      "---  ------                    --------------  -----  \n",
      " 0   track_name                32828 non-null  object \n",
      " 1   track_popularity          32833 non-null  int64  \n",
      " 2   track_album_name          32828 non-null  object \n",
      " 3   track_album_release_date  32833 non-null  object \n",
      " 4   playlist_name             32833 non-null  object \n",
      " 5   playlist_genre            32833 non-null  object \n",
      " 6   danceability              32833 non-null  float64\n",
      " 7   energy                    32833 non-null  float64\n",
      " 8   key                       32833 non-null  int64  \n",
      " 9   loudness                  32833 non-null  float64\n",
      " 10  mode                      32833 non-null  int64  \n",
      " 11  speechiness               32833 non-null  float64\n",
      " 12  acousticness              32833 non-null  float64\n",
      " 13  instrumentalness          32833 non-null  float64\n",
      " 14  liveness                  32833 non-null  float64\n",
      " 15  valence                   32833 non-null  float64\n",
      " 16  tempo                     32833 non-null  float64\n",
      " 17  duration_ms               32833 non-null  int64  \n",
      "dtypes: float64(9), int64(4), object(5)\n",
      "memory usage: 4.5+ MB\n"
     ]
    }
   ],
   "source": [
    "df.info()"
   ]
  },
  {
   "cell_type": "markdown",
   "id": "f1dce342-22ba-416d-a5bb-5f33b2e029d7",
   "metadata": {},
   "source": [
    "## Create new columns\n",
    "\n",
    "The given data presents us with the oppurtunity to create additional columns. These new columns may have an impact on the target variable. \n",
    "\n",
    "In this case, I have used  the column `track_album_release_date` to create two new columns `release_year` and `release_month`"
   ]
  },
  {
   "cell_type": "code",
   "execution_count": 28,
   "id": "67c0ef4d-c935-4e9f-93a1-d2e0e95cdca5",
   "metadata": {
    "tags": []
   },
   "outputs": [],
   "source": [
    "df['track_album_release_date'] = pd.to_datetime(df['track_album_release_date'],  format='mixed')"
   ]
  },
  {
   "cell_type": "code",
   "execution_count": 29,
   "id": "048f7160-76ca-44fe-b473-7855294e6489",
   "metadata": {
    "tags": []
   },
   "outputs": [],
   "source": [
    "df['release_year'] = df.track_album_release_date.dt.year"
   ]
  },
  {
   "cell_type": "code",
   "execution_count": 34,
   "id": "85313bf1-de63-4a5d-bcad-058b4c6bb3c1",
   "metadata": {
    "tags": []
   },
   "outputs": [
    {
     "data": {
      "image/png": "[encoded data removed]",
      "text/plain": [
       "<Figure size 1661.11x1100 with 1 Axes>"
      ]
     },
     "metadata": {},
     "output_type": "display_data"
    }
   ],
   "source": [
    "sns.catplot(data = df, y='release_year', kind='count', height=11, aspect=1.5)\n",
    "\n",
    "plt.show()"
   ]
  },
  {
   "cell_type": "code",
   "execution_count": 30,
   "id": "ca5a401e-6e09-44ae-8000-4236bb981cdf",
   "metadata": {
    "tags": []
   },
   "outputs": [],
   "source": [
    "df['release_month'] = df.track_album_release_date.dt.month"
   ]
  },
  {
   "cell_type": "code",
   "execution_count": 36,
   "id": "13c34a1c-4187-4109-acc4-b9701c46ff58",
   "metadata": {
    "tags": []
   },
   "outputs": [
    {
     "data": {
      "image/png": "[encoded data removed]",
      "text/plain": [
       "<Figure size 1661.11x1100 with 1 Axes>"
      ]
     },
     "metadata": {},
     "output_type": "display_data"
    }
   ],
   "source": [
    "sns.catplot(data = df, y='release_month', kind='count', height=11, aspect=1.5)\n",
    "\n",
    "plt.show()"
   ]
  },
  {
   "cell_type": "code",
   "execution_count": 46,
   "id": "8b0cd3eb-4a46-4165-8514-fef5769216f3",
   "metadata": {
    "tags": []
   },
   "outputs": [],
   "source": [
    "grouped = df.groupby(['track_name']).\\\n",
    "aggregate(num_track_pop_values = ('track_popularity', 'nunique'),\n",
    "          num_valence_values = ('valence', 'nunique'),)"
   ]
  },
  {
   "cell_type": "code",
   "execution_count": 49,
   "id": "51b99b34-d30f-439d-a053-d602ef411e36",
   "metadata": {
    "tags": []
   },
   "outputs": [],
   "source": [
    "multiple_combinations = grouped[\n",
    "    (grouped['num_track_pop_values'] > 1) | (grouped['num_valence_values'] > 1)\n",
    "].index"
   ]
  },
  {
   "cell_type": "code",
   "execution_count": 50,
   "id": "023a7225-00a3-46c3-9db3-1206fc9dc532",
   "metadata": {
    "tags": []
   },
   "outputs": [],
   "source": [
    "result = df[df['track_name'].isin(multiple_combinations)]"
   ]
  },
  {
   "cell_type": "code",
   "execution_count": 52,
   "id": "3cfbafbe-bccd-45d9-b93c-c2d2616fb34e",
   "metadata": {
    "tags": []
   },
   "outputs": [],
   "source": [
    "result = result.sort_values('track_name')"
   ]
  },
  {
   "cell_type": "code",
   "execution_count": 54,
   "id": "23200179-d51e-4aae-ae6d-cae20cb4536d",
   "metadata": {
    "tags": []
   },
   "outputs": [
    {
     "data": {
      "text/html": [
       "<div>\n",
       "<style scoped>\n",
       "    .dataframe tbody tr th:only-of-type {\n",
       "        vertical-align: middle;\n",
       "    }\n",
       "\n",
       "    .dataframe tbody tr th {\n",
       "        vertical-align: top;\n",
       "    }\n",
       "\n",
       "    .dataframe thead th {\n",
       "        text-align: right;\n",
       "    }\n",
       "</style>\n",
       "<table border=\"1\" class=\"dataframe\">\n",
       "  <thead>\n",
       "    <tr style=\"text-align: right;\">\n",
       "      <th></th>\n",
       "      <th>track_name</th>\n",
       "      <th>track_popularity</th>\n",
       "      <th>track_album_name</th>\n",
       "      <th>track_album_release_date</th>\n",
       "      <th>playlist_name</th>\n",
       "      <th>playlist_genre</th>\n",
       "      <th>danceability</th>\n",
       "      <th>energy</th>\n",
       "      <th>key</th>\n",
       "      <th>loudness</th>\n",
       "      <th>mode</th>\n",
       "      <th>speechiness</th>\n",
       "      <th>acousticness</th>\n",
       "      <th>instrumentalness</th>\n",
       "      <th>liveness</th>\n",
       "      <th>valence</th>\n",
       "      <th>tempo</th>\n",
       "      <th>duration_ms</th>\n",
       "      <th>release_year</th>\n",
       "      <th>release_month</th>\n",
       "    </tr>\n",
       "  </thead>\n",
       "  <tbody>\n",
       "    <tr>\n",
       "      <th>6037</th>\n",
       "      <td>#1 Stunna</td>\n",
       "      <td>48</td>\n",
       "      <td>I Got That Work</td>\n",
       "      <td>2000-01-01</td>\n",
       "      <td>Hip-Hop Drive</td>\n",
       "      <td>rap</td>\n",
       "      <td>0.552</td>\n",
       "      <td>0.842</td>\n",
       "      <td>8</td>\n",
       "      <td>-4.961</td>\n",
       "      <td>1</td>\n",
       "      <td>0.2850</td>\n",
       "      <td>0.0176</td>\n",
       "      <td>0.003270</td>\n",
       "      <td>0.2580</td>\n",
       "      <td>0.561</td>\n",
       "      <td>89.017</td>\n",
       "      <td>281960</td>\n",
       "      <td>2000</td>\n",
       "      <td>1</td>\n",
       "    </tr>\n",
       "    <tr>\n",
       "      <th>7075</th>\n",
       "      <td>#1 Stunna</td>\n",
       "      <td>0</td>\n",
       "      <td>I Got That Work (Explicit Version)</td>\n",
       "      <td>2000-01-01</td>\n",
       "      <td>Dirty South Rap Classics by DJ HOTSAUCE</td>\n",
       "      <td>rap</td>\n",
       "      <td>0.552</td>\n",
       "      <td>0.839</td>\n",
       "      <td>2</td>\n",
       "      <td>-4.984</td>\n",
       "      <td>1</td>\n",
       "      <td>0.2840</td>\n",
       "      <td>0.0150</td>\n",
       "      <td>0.004040</td>\n",
       "      <td>0.2580</td>\n",
       "      <td>0.569</td>\n",
       "      <td>89.070</td>\n",
       "      <td>281960</td>\n",
       "      <td>2000</td>\n",
       "      <td>1</td>\n",
       "    </tr>\n",
       "    <tr>\n",
       "      <th>14503</th>\n",
       "      <td>'39 - 2011 Mix</td>\n",
       "      <td>60</td>\n",
       "      <td>A Night At The Opera (Deluxe Edition 2011 Rema...</td>\n",
       "      <td>1975-11-21</td>\n",
       "      <td>I didn’t know perm stood for permanent (wave)</td>\n",
       "      <td>rock</td>\n",
       "      <td>0.524</td>\n",
       "      <td>0.571</td>\n",
       "      <td>8</td>\n",
       "      <td>-9.686</td>\n",
       "      <td>1</td>\n",
       "      <td>0.0273</td>\n",
       "      <td>0.0271</td>\n",
       "      <td>0.000000</td>\n",
       "      <td>0.1110</td>\n",
       "      <td>0.373</td>\n",
       "      <td>101.626</td>\n",
       "      <td>210800</td>\n",
       "      <td>1975</td>\n",
       "      <td>11</td>\n",
       "    </tr>\n",
       "    <tr>\n",
       "      <th>12103</th>\n",
       "      <td>'39 - 2011 Mix</td>\n",
       "      <td>46</td>\n",
       "      <td>A Night At The Opera (2011 Remaster)</td>\n",
       "      <td>1975-11-21</td>\n",
       "      <td>The Queen - La Discografia Completa</td>\n",
       "      <td>rock</td>\n",
       "      <td>0.524</td>\n",
       "      <td>0.571</td>\n",
       "      <td>8</td>\n",
       "      <td>-9.686</td>\n",
       "      <td>1</td>\n",
       "      <td>0.0273</td>\n",
       "      <td>0.0271</td>\n",
       "      <td>0.000000</td>\n",
       "      <td>0.1110</td>\n",
       "      <td>0.373</td>\n",
       "      <td>101.626</td>\n",
       "      <td>210800</td>\n",
       "      <td>1975</td>\n",
       "      <td>11</td>\n",
       "    </tr>\n",
       "    <tr>\n",
       "      <th>28964</th>\n",
       "      <td>'Till I Collapse</td>\n",
       "      <td>83</td>\n",
       "      <td>The Eminem Show</td>\n",
       "      <td>2002-05-26</td>\n",
       "      <td>Locker Room</td>\n",
       "      <td>edm</td>\n",
       "      <td>0.548</td>\n",
       "      <td>0.847</td>\n",
       "      <td>1</td>\n",
       "      <td>-3.237</td>\n",
       "      <td>1</td>\n",
       "      <td>0.1860</td>\n",
       "      <td>0.0622</td>\n",
       "      <td>0.000000</td>\n",
       "      <td>0.0816</td>\n",
       "      <td>0.100</td>\n",
       "      <td>171.447</td>\n",
       "      <td>297787</td>\n",
       "      <td>2002</td>\n",
       "      <td>5</td>\n",
       "    </tr>\n",
       "    <tr>\n",
       "      <th>...</th>\n",
       "      <td>...</td>\n",
       "      <td>...</td>\n",
       "      <td>...</td>\n",
       "      <td>...</td>\n",
       "      <td>...</td>\n",
       "      <td>...</td>\n",
       "      <td>...</td>\n",
       "      <td>...</td>\n",
       "      <td>...</td>\n",
       "      <td>...</td>\n",
       "      <td>...</td>\n",
       "      <td>...</td>\n",
       "      <td>...</td>\n",
       "      <td>...</td>\n",
       "      <td>...</td>\n",
       "      <td>...</td>\n",
       "      <td>...</td>\n",
       "      <td>...</td>\n",
       "      <td>...</td>\n",
       "      <td>...</td>\n",
       "    </tr>\n",
       "    <tr>\n",
       "      <th>8685</th>\n",
       "      <td>Сарума</td>\n",
       "      <td>27</td>\n",
       "      <td>Треникиспортивки (Лучшее)</td>\n",
       "      <td>2014-04-01</td>\n",
       "      <td>Russian Gangster Rap</td>\n",
       "      <td>rap</td>\n",
       "      <td>0.651</td>\n",
       "      <td>0.775</td>\n",
       "      <td>6</td>\n",
       "      <td>-7.099</td>\n",
       "      <td>0</td>\n",
       "      <td>0.1790</td>\n",
       "      <td>0.4260</td>\n",
       "      <td>0.000012</td>\n",
       "      <td>0.2210</td>\n",
       "      <td>0.567</td>\n",
       "      <td>81.961</td>\n",
       "      <td>142316</td>\n",
       "      <td>2014</td>\n",
       "      <td>4</td>\n",
       "    </tr>\n",
       "    <tr>\n",
       "      <th>8665</th>\n",
       "      <td>Табор уходит в небо</td>\n",
       "      <td>49</td>\n",
       "      <td>Сторона а сторона б</td>\n",
       "      <td>2015-01-26</td>\n",
       "      <td>Russian Gangster Rap</td>\n",
       "      <td>rap</td>\n",
       "      <td>0.501</td>\n",
       "      <td>0.362</td>\n",
       "      <td>2</td>\n",
       "      <td>-10.166</td>\n",
       "      <td>1</td>\n",
       "      <td>0.1350</td>\n",
       "      <td>0.0960</td>\n",
       "      <td>0.000003</td>\n",
       "      <td>0.1490</td>\n",
       "      <td>0.151</td>\n",
       "      <td>78.732</td>\n",
       "      <td>208862</td>\n",
       "      <td>2015</td>\n",
       "      <td>1</td>\n",
       "    </tr>\n",
       "    <tr>\n",
       "      <th>9451</th>\n",
       "      <td>Табор уходит в небо</td>\n",
       "      <td>23</td>\n",
       "      <td>The Best of Каспийский Груз</td>\n",
       "      <td>2018-01-16</td>\n",
       "      <td>RUSSIAN Gangster Rap</td>\n",
       "      <td>rap</td>\n",
       "      <td>0.493</td>\n",
       "      <td>0.363</td>\n",
       "      <td>2</td>\n",
       "      <td>-10.169</td>\n",
       "      <td>1</td>\n",
       "      <td>0.1320</td>\n",
       "      <td>0.0978</td>\n",
       "      <td>0.000003</td>\n",
       "      <td>0.1530</td>\n",
       "      <td>0.148</td>\n",
       "      <td>78.756</td>\n",
       "      <td>208862</td>\n",
       "      <td>2018</td>\n",
       "      <td>1</td>\n",
       "    </tr>\n",
       "    <tr>\n",
       "      <th>9443</th>\n",
       "      <td>Яд</td>\n",
       "      <td>1</td>\n",
       "      <td>Кругозор</td>\n",
       "      <td>2018-11-15</td>\n",
       "      <td>RUSSIAN Gangster Rap</td>\n",
       "      <td>rap</td>\n",
       "      <td>0.607</td>\n",
       "      <td>0.756</td>\n",
       "      <td>2</td>\n",
       "      <td>-3.530</td>\n",
       "      <td>1</td>\n",
       "      <td>0.1810</td>\n",
       "      <td>0.1380</td>\n",
       "      <td>0.000000</td>\n",
       "      <td>0.0743</td>\n",
       "      <td>0.795</td>\n",
       "      <td>88.098</td>\n",
       "      <td>158746</td>\n",
       "      <td>2018</td>\n",
       "      <td>11</td>\n",
       "    </tr>\n",
       "    <tr>\n",
       "      <th>8666</th>\n",
       "      <td>Яд</td>\n",
       "      <td>45</td>\n",
       "      <td>Кругозор</td>\n",
       "      <td>2012-10-12</td>\n",
       "      <td>Russian Gangster Rap</td>\n",
       "      <td>rap</td>\n",
       "      <td>0.607</td>\n",
       "      <td>0.756</td>\n",
       "      <td>2</td>\n",
       "      <td>-3.530</td>\n",
       "      <td>1</td>\n",
       "      <td>0.1810</td>\n",
       "      <td>0.1380</td>\n",
       "      <td>0.000000</td>\n",
       "      <td>0.0743</td>\n",
       "      <td>0.795</td>\n",
       "      <td>88.098</td>\n",
       "      <td>158746</td>\n",
       "      <td>2012</td>\n",
       "      <td>10</td>\n",
       "    </tr>\n",
       "  </tbody>\n",
       "</table>\n",
       "<p>9621 rows × 20 columns</p>\n",
       "</div>"
      ],
      "text/plain": [
       "                track_name  track_popularity  \\\n",
       "6037             #1 Stunna                48   \n",
       "7075             #1 Stunna                 0   \n",
       "14503       '39 - 2011 Mix                60   \n",
       "12103       '39 - 2011 Mix                46   \n",
       "28964     'Till I Collapse                83   \n",
       "...                    ...               ...   \n",
       "8685                Сарума                27   \n",
       "8665   Табор уходит в небо                49   \n",
       "9451   Табор уходит в небо                23   \n",
       "9443                    Яд                 1   \n",
       "8666                    Яд                45   \n",
       "\n",
       "                                        track_album_name  \\\n",
       "6037                                     I Got That Work   \n",
       "7075                  I Got That Work (Explicit Version)   \n",
       "14503  A Night At The Opera (Deluxe Edition 2011 Rema...   \n",
       "12103               A Night At The Opera (2011 Remaster)   \n",
       "28964                                    The Eminem Show   \n",
       "...                                                  ...   \n",
       "8685                           Треникиспортивки (Лучшее)   \n",
       "8665                                 Сторона а сторона б   \n",
       "9451                         The Best of Каспийский Груз   \n",
       "9443                                            Кругозор   \n",
       "8666                                            Кругозор   \n",
       "\n",
       "      track_album_release_date                                  playlist_name  \\\n",
       "6037                2000-01-01                                  Hip-Hop Drive   \n",
       "7075                2000-01-01        Dirty South Rap Classics by DJ HOTSAUCE   \n",
       "14503               1975-11-21  I didn’t know perm stood for permanent (wave)   \n",
       "12103               1975-11-21            The Queen - La Discografia Completa   \n",
       "28964               2002-05-26                                    Locker Room   \n",
       "...                        ...                                            ...   \n",
       "8685                2014-04-01                           Russian Gangster Rap   \n",
       "8665                2015-01-26                           Russian Gangster Rap   \n",
       "9451                2018-01-16                           RUSSIAN Gangster Rap   \n",
       "9443                2018-11-15                           RUSSIAN Gangster Rap   \n",
       "8666                2012-10-12                           Russian Gangster Rap   \n",
       "\n",
       "      playlist_genre  danceability  energy  key  loudness  mode  speechiness  \\\n",
       "6037             rap         0.552   0.842    8    -4.961     1       0.2850   \n",
       "7075             rap         0.552   0.839    2    -4.984     1       0.2840   \n",
       "14503           rock         0.524   0.571    8    -9.686     1       0.0273   \n",
       "12103           rock         0.524   0.571    8    -9.686     1       0.0273   \n",
       "28964            edm         0.548   0.847    1    -3.237     1       0.1860   \n",
       "...              ...           ...     ...  ...       ...   ...          ...   \n",
       "8685             rap         0.651   0.775    6    -7.099     0       0.1790   \n",
       "8665             rap         0.501   0.362    2   -10.166     1       0.1350   \n",
       "9451             rap         0.493   0.363    2   -10.169     1       0.1320   \n",
       "9443             rap         0.607   0.756    2    -3.530     1       0.1810   \n",
       "8666             rap         0.607   0.756    2    -3.530     1       0.1810   \n",
       "\n",
       "       acousticness  instrumentalness  liveness  valence    tempo  \\\n",
       "6037         0.0176          0.003270    0.2580    0.561   89.017   \n",
       "7075         0.0150          0.004040    0.2580    0.569   89.070   \n",
       "14503        0.0271          0.000000    0.1110    0.373  101.626   \n",
       "12103        0.0271          0.000000    0.1110    0.373  101.626   \n",
       "28964        0.0622          0.000000    0.0816    0.100  171.447   \n",
       "...             ...               ...       ...      ...      ...   \n",
       "8685         0.4260          0.000012    0.2210    0.567   81.961   \n",
       "8665         0.0960          0.000003    0.1490    0.151   78.732   \n",
       "9451         0.0978          0.000003    0.1530    0.148   78.756   \n",
       "9443         0.1380          0.000000    0.0743    0.795   88.098   \n",
       "8666         0.1380          0.000000    0.0743    0.795   88.098   \n",
       "\n",
       "       duration_ms  release_year  release_month  \n",
       "6037        281960          2000              1  \n",
       "7075        281960          2000              1  \n",
       "14503       210800          1975             11  \n",
       "12103       210800          1975             11  \n",
       "28964       297787          2002              5  \n",
       "...            ...           ...            ...  \n",
       "8685        142316          2014              4  \n",
       "8665        208862          2015              1  \n",
       "9451        208862          2018              1  \n",
       "9443        158746          2018             11  \n",
       "8666        158746          2012             10  \n",
       "\n",
       "[9621 rows x 20 columns]"
      ]
     },
     "execution_count": 54,
     "metadata": {},
     "output_type": "execute_result"
    }
   ],
   "source": [
    "result"
   ]
  },
  {
   "cell_type": "markdown",
   "id": "a1a5f5fe-8fc8-4bb1-b6dc-dd3d9ebe3331",
   "metadata": {},
   "source": [
    "## Visualizing Continous Variables\n",
    "\n",
    "To visualize continous variable we will be using Histograms with KDE plots"
   ]
  },
  {
   "cell_type": "code",
   "execution_count": null,
   "id": "37d59afe-e3ba-4f4c-a37e-d969dd4952cd",
   "metadata": {
    "tags": []
   },
   "outputs": [],
   "source": [
    "continuous_vars = df.select_dtypes(include=['float64', 'int64']).columns\n",
    "\n",
    "# Create a grid of subplots using Matplotlib\n",
    "nrows, ncols = 4,4\n",
    "fig, axes = plt.subplots(nrows=nrows, ncols=ncols, figsize=(20, 12))\n",
    "axes = axes.flatten() \n",
    "\n",
    "# Iterate over continuous variables and plot histograms using Seaborn\n",
    "for i, var in enumerate(continuous_vars):\n",
    "    ax = sns.histplot(data=df, x=var, kde=True, ax=axes[i])\n",
    "    ax.lines[0].set_color('blue')\n",
    "# Adjust spacing between subplots\n",
    "plt.subplots_adjust(hspace=0.5)\n",
    "\n",
    "\n",
    "\n",
    "# Show the plot\n",
    "plt.show()"
   ]
  },
  {
   "cell_type": "code",
   "execution_count": null,
   "id": "763ffcb9-a201-4abe-8896-dedecb3a7e9c",
   "metadata": {
    "tags": []
   },
   "outputs": [],
   "source": [
    "continuous_vars = df.select_dtypes(include=['float64', 'int64']).columns\n",
    "\n",
    "# Create a grid of subplots using Matplotlib\n",
    "nrows, ncols = 4,4\n",
    "fig, axes = plt.subplots(nrows=nrows, ncols=ncols, figsize=(20, 12))\n",
    "axes = axes.flatten() \n",
    "\n",
    "# Iterate over continuous variables and plot histograms using Seaborn\n",
    "for i, var in enumerate(continuous_vars):\n",
    "    ax = sns.boxplot(data=df, x=var, ax=axes[i])\n",
    "    ax.set_title(var)\n",
    "# Adjust spacing between subplots\n",
    "plt.subplots_adjust(hspace=0.5)\n",
    "\n",
    "\n",
    "\n",
    "# Show the plot\n",
    "plt.show()\n"
   ]
  },
  {
   "cell_type": "markdown",
   "id": "babed866-6a64-43e3-8c27-593686c6ed02",
   "metadata": {
    "tags": []
   },
   "source": [
    "### Observation\n",
    "We can see that  speechiness, instrumentalness, liveness, acousticness are skewed right.\n",
    "\n",
    "loudness, mode, time_signature are skewed left.\n",
    "\n",
    "Only danceability, energy, valence, tempo have normal distribution.\n",
    "\n",
    "Before we can use the data for modeling, we must transform the left and right skewed features have more symmetrical and bell-shaped distributions."
   ]
  },
  {
   "cell_type": "code",
   "execution_count": null,
   "id": "fbacc431-3855-4b35-a773-203c496128f4",
   "metadata": {
    "tags": []
   },
   "outputs": [],
   "source": [
    "df.release_year.skew()"
   ]
  },
  {
   "cell_type": "markdown",
   "id": "2de2ce3e-aed0-475a-8405-ee51661db5f7",
   "metadata": {},
   "source": [
    "## Analyzing target/output variable `track_popularity`\n",
    "\n",
    "Above histogram shows that track_popularity is mostly normally distributed but the value 0 has lot more entries that other values. We can firther confirm that using the following boxplot"
   ]
  },
  {
   "cell_type": "code",
   "execution_count": null,
   "id": "3284243d-d7d0-4de5-b193-3b4d4280a867",
   "metadata": {
    "tags": []
   },
   "outputs": [],
   "source": [
    "sns.boxplot(x=df[\"track_popularity\"], showmeans=True, width=0.2)"
   ]
  },
  {
   "cell_type": "markdown",
   "id": "bf5cd282-2331-40f9-9d52-7d661bcafabf",
   "metadata": {},
   "source": [
    "**This also shows that although track_popularity is an integer column it is not a continous output. The values are between 0 and 100. A linear regression would require the output to be continous. Since that is not the case this can be considered a classification problem**"
   ]
  },
  {
   "cell_type": "code",
   "execution_count": null,
   "id": "52d657ff-c729-4127-bc54-d6f3b57d5773",
   "metadata": {
    "tags": []
   },
   "outputs": [],
   "source": [
    "df['track_popularity_bin'] = np.where( df.track_popularity > 50, 1, 0 )"
   ]
  },
  {
   "cell_type": "code",
   "execution_count": null,
   "id": "dfb5e243-3d5a-484a-b9e8-877990567d71",
   "metadata": {
    "tags": []
   },
   "outputs": [],
   "source": [
    "df.track_popularity_bin.value_counts(normalize=True)"
   ]
  },
  {
   "cell_type": "code",
   "execution_count": null,
   "id": "6810039d-7e52-4b79-88e1-2c48c615b89e",
   "metadata": {
    "tags": []
   },
   "outputs": [],
   "source": [
    "df['release_year_bin'] = np.where( df.release_year < 2010 , 'older', 'recent')"
   ]
  },
  {
   "cell_type": "code",
   "execution_count": null,
   "id": "d7c6f7a1-63ae-42d3-b5e5-bdd6deb539c1",
   "metadata": {
    "tags": []
   },
   "outputs": [],
   "source": [
    "sns.catplot(data = df, x='release_year_bin', kind='count', height=7)\n",
    "\n",
    "plt.show()"
   ]
  },
  {
   "cell_type": "code",
   "execution_count": null,
   "id": "3e262c3b-e41d-4eab-9056-3002ae49982c",
   "metadata": {
    "tags": []
   },
   "outputs": [],
   "source": [
    "sns.catplot( data = df, x='playlist_genre', hue='track_popularity_bin', kind='count')\n",
    "\n",
    "plt.show()"
   ]
  },
  {
   "cell_type": "code",
   "execution_count": null,
   "id": "6a05a39f-96ec-4187-9623-b6a2508b7c3b",
   "metadata": {
    "tags": []
   },
   "outputs": [],
   "source": [
    "sns.catplot( data = df, x='release_year_bin', hue='track_popularity_bin', kind='count')\n",
    "\n",
    "plt.show()"
   ]
  },
  {
   "cell_type": "code",
   "execution_count": null,
   "id": "a741ca04-8cec-478a-889d-d712b37ce7e2",
   "metadata": {
    "tags": []
   },
   "outputs": [],
   "source": [
    "sns.catplot( data = df, col='release_year_bin', hue='track_popularity_bin', x = 'playlist_genre', kind='count')\n",
    "\n",
    "plt.show()"
   ]
  },
  {
   "cell_type": "markdown",
   "id": "d3e882da-7767-4d7c-8b16-b5bd540cf067",
   "metadata": {
    "tags": []
   },
   "source": [
    "In the recent years pop and rap are the popular genre while in the older years rock has been the popular genre"
   ]
  },
  {
   "cell_type": "code",
   "execution_count": null,
   "id": "a0766277-09e8-44f2-a381-039879917512",
   "metadata": {
    "tags": []
   },
   "outputs": [],
   "source": [
    "sns.displot(data = df, x='energy', hue='track_popularity_bin', kind='kde', common_norm=False)\n",
    "# using common_norm=False  to remove the sample size effect\n",
    "plt.show()"
   ]
  },
  {
   "cell_type": "markdown",
   "id": "484244ae-2fd0-4b29-9249-06cdff43c3d5",
   "metadata": {
    "tags": []
   },
   "source": [
    "## Analyzing Categorical Variables"
   ]
  },
  {
   "cell_type": "code",
   "execution_count": null,
   "id": "04c8384b-b1a5-4ff3-9865-3b1503c2daf2",
   "metadata": {
    "tags": []
   },
   "outputs": [],
   "source": [
    "sns.relplot(data = df, x='liveness', y='energy', hue='track_popularity_bin')\n",
    "\n",
    "plt.show()"
   ]
  },
  {
   "cell_type": "code",
   "execution_count": null,
   "id": "967586fd-6842-4694-ae25-7f92b2c82002",
   "metadata": {
    "tags": []
   },
   "outputs": [],
   "source": [
    "# Iterate over continuous variables and plot histograms using Seaborn\n",
    "for i, var in enumerate(continuous_vars):\n",
    "    sns.displot(data = df, x=var, hue='playlist_genre',\n",
    "            common_norm=False, kind='kde', height=3.5, aspect=1)"
   ]
  },
  {
   "cell_type": "code",
   "execution_count": null,
   "id": "ec5d596c-4405-4a3f-90be-17b0869bc182",
   "metadata": {
    "tags": []
   },
   "outputs": [],
   "source": [
    "# boxplot for numerical columns\n",
    "columns = ['track_popularity', 'duration_ms', 'tempo', 'loudness', 'acousticness', 'danceability', 'energy', 'instrumentalness', 'liveness', 'speechiness', 'valence']\n",
    "fig, axes = plt.subplots(nrows=3, ncols=4, figsize=(15, 10))\n",
    "for i, col in enumerate(columns):\n",
    "    sns.boxplot(y=col, data=df[[f'{col}']], ax=axes[i//4, i%4])\n",
    "    axes[i//4, i%4].set_title(col)\n",
    "plt.tight_layout()\n",
    "plt.show()"
   ]
  },
  {
   "cell_type": "code",
   "execution_count": null,
   "id": "804ed76b-5bf6-4cc9-8e75-58fed716caa6",
   "metadata": {
    "tags": []
   },
   "outputs": [],
   "source": [
    "sns.catplot(data = df, x='playlist_genre', y='danceability', kind='box',\n",
    "            showmeans=True,\n",
    "            meanprops={'marker': 'o', 'markerfacecolor': 'white', 'markeredgecolor': 'black'})\n",
    "\n",
    "plt.show()"
   ]
  },
  {
   "cell_type": "code",
   "execution_count": null,
   "id": "64cbb52b-6815-46f4-be46-b581d110b9d2",
   "metadata": {
    "tags": []
   },
   "outputs": [],
   "source": [
    "import warnings\n",
    "top_n = 10\n",
    "sns.set_style('darkgrid')\n",
    "sns.set(rc={\"axes.facecolor\":\"#F2EAC5\",\"figure.facecolor\":\"#F2EAC5\"})\n",
    "# Get the top N most frequent artists, albums, tracks, and genres\n",
    "top_artists = df['track_artist'].value_counts().head(top_n)\n",
    "top_albums = df['track_album_name'].value_counts().head(top_n)\n",
    "top_tracks = df['track_name'].value_counts().head(top_n)\n",
    "top_genres = df['playlist_genre'].value_counts().head(top_n)\n",
    "\n",
    "# Disable FutureWarning\n",
    "with warnings.catch_warnings():\n",
    "    warnings.simplefilter(\"ignore\", category=FutureWarning)\n",
    "\n",
    "    # Plotting\n",
    "    fig, axes = plt.subplots(nrows=2, ncols=2, figsize=(15, 10))\n",
    "\n",
    "    # Top N Artists\n",
    "    sns.barplot(x=top_artists.values, y=top_artists.index, palette=\"crest\", ax=axes[0, 0], orient='h',  zorder=3, width=0.5)\n",
    "    axes[0, 0].set_title(f'Top {top_n} Artists')\n",
    "    axes[0, 0].set_xlabel('Frequency')\n",
    "    axes[0, 0].xaxis.grid(linestyle='-', linewidth=0.5, alpha=1, zorder=0)\n",
    "\n",
    "    # Top N Albums\n",
    "    sns.barplot(x=top_albums.values, y=top_albums.index, palette=\"crest\", ax=axes[0, 1], orient='h', zorder=3, width=0.5)\n",
    "    axes[0, 1].set_title(f'Top {top_n} Albums')\n",
    "    axes[0, 1].set_xlabel('Frequency')\n",
    "    axes[0, 1].xaxis.grid(linestyle='-', linewidth=0.5, alpha=1, zorder=0)\n",
    "\n",
    "    # Top N Tracks\n",
    "    sns.barplot(x=top_tracks.values, y=top_tracks.index, palette=\"crest\", ax=axes[1, 0], orient='h', zorder=3, width=0.5)\n",
    "    axes[1, 0].set_title(f'Top {top_n} Tracks')\n",
    "    axes[1, 0].set_xlabel('Frequency')\n",
    "    axes[1, 0].xaxis.grid(linestyle='-', linewidth=0.5, alpha=1, zorder=0)\n",
    "\n",
    "    # Top N Genres\n",
    "    sns.barplot(x=top_genres.values, y=top_genres.index, palette=\"crest\", ax=axes[1, 1], orient='h', zorder=3, width=0.5)\n",
    "    axes[1, 1].set_title(f'Top {top_n} Genres')\n",
    "    axes[1, 1].set_xlabel('Frequency')\n",
    "    axes[1, 1].xaxis.grid(linestyle='-', linewidth=0.5, alpha=1, zorder=0)\n",
    "\n",
    "    plt.tight_layout()\n",
    "    plt.show()"
   ]
  },
  {
   "cell_type": "code",
   "execution_count": null,
   "id": "c5b86548-3dd0-491d-bf31-b88069819ee8",
   "metadata": {
    "tags": []
   },
   "outputs": [],
   "source": [
    "for i, var in enumerate(continuous_vars):\n",
    "    sns.displot(data = df, x=var, hue='track_popularity_binary',\n",
    "            common_norm=False, kind='kde', height=3.5, aspect=1)"
   ]
  },
  {
   "cell_type": "code",
   "execution_count": null,
   "id": "b1f2d228-7c73-4b62-9452-d975cd9353a3",
   "metadata": {
    "tags": []
   },
   "outputs": [],
   "source": [
    "sns.relplot(data=df,y='track_popularity',x='loudness', color = 'blue')"
   ]
  },
  {
   "cell_type": "code",
   "execution_count": null,
   "id": "5237db62-cf96-4f79-9fa1-260716ef15cc",
   "metadata": {
    "tags": []
   },
   "outputs": [],
   "source": [
    "sns.catplot(data = df, x='playlist_genre', y='danceability', kind='point', linestyle='none')\n",
    "\n",
    "plt.show()"
   ]
  },
  {
   "cell_type": "code",
   "execution_count": null,
   "id": "e48c1fc5-7016-4ca7-9ea8-b793b158ee76",
   "metadata": {
    "tags": []
   },
   "outputs": [],
   "source": [
    "df.loc[df['track_popularity'] < 50]"
   ]
  },
  {
   "cell_type": "code",
   "execution_count": null,
   "id": "9250a11e-7baf-4b82-9f77-d92a06dfc537",
   "metadata": {
    "tags": []
   },
   "outputs": [],
   "source": [
    "from ydata_profiling import ProfileReport\n",
    "profile = ProfileReport(df, title=\"Profiling Report\")"
   ]
  },
  {
   "cell_type": "code",
   "execution_count": null,
   "id": "99e206c7-87a2-425f-a716-33def4cfdb5a",
   "metadata": {
    "tags": []
   },
   "outputs": [],
   "source": [
    "profile"
   ]
  },
  {
   "cell_type": "code",
   "execution_count": null,
   "id": "7bf35182-7094-4f99-83d7-cc513c744a40",
   "metadata": {
    "tags": []
   },
   "outputs": [],
   "source": [
    "df.describe()"
   ]
  },
  {
   "cell_type": "code",
   "execution_count": null,
   "id": "d6769d32-c362-4c21-afb6-99ad055f2444",
   "metadata": {
    "tags": []
   },
   "outputs": [],
   "source": [
    "df.isnull()"
   ]
  },
  {
   "cell_type": "code",
   "execution_count": null,
   "id": "02e8960f-3f49-46db-8c5e-0d38c3e64054",
   "metadata": {
    "tags": []
   },
   "outputs": [],
   "source": [
    "df.unique()"
   ]
  },
  {
   "cell_type": "code",
   "execution_count": null,
   "id": "e4c4e18b-37e1-4de0-b243-1e23c51374f4",
   "metadata": {
    "tags": []
   },
   "outputs": [],
   "source": [
    "df.track_id.value_counts(dropna=False)"
   ]
  },
  {
   "cell_type": "code",
   "execution_count": null,
   "id": "14c22c92-0881-48b8-a9e0-9221e4ec4783",
   "metadata": {
    "tags": []
   },
   "outputs": [],
   "source": [
    "df.track_popularity.value_counts(dropna=False, normalize=True)"
   ]
  },
  {
   "cell_type": "code",
   "execution_count": null,
   "id": "408e4cbd-1117-44ab-a35e-6c22186ae43b",
   "metadata": {},
   "outputs": [],
   "source": []
  },
  {
   "cell_type": "code",
   "execution_count": null,
   "id": "20119f51-4711-451e-962c-91ae1acea4b2",
   "metadata": {
    "tags": []
   },
   "outputs": [],
   "source": [
    "cat_vars = df.select_dtypes(include=['object']).columns"
   ]
  }
 ],
 "metadata": {
  "kernelspec": {
   "display_name": "conda_python3",
   "language": "python",
   "name": "conda_python3"
  },
  "language_info": {
   "codemirror_mode": {
    "name": "ipython",
    "version": 3
   },
   "file_extension": ".py",
   "mimetype": "text/x-python",
   "name": "python",
   "nbconvert_exporter": "python",
   "pygments_lexer": "ipython3",
   "version": "3.10.14"
  }
 },
 "nbformat": 4,
 "nbformat_minor": 5
}
